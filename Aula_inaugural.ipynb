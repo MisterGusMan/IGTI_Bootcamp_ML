{
  "nbformat": 4,
  "nbformat_minor": 0,
  "metadata": {
    "colab": {
      "name": "Aula_inaugural.ipynb",
      "provenance": [],
      "include_colab_link": true
    },
    "kernelspec": {
      "name": "python3",
      "display_name": "Python 3"
    },
    "accelerator": "GPU"
  },
  "cells": [
    {
      "cell_type": "markdown",
      "metadata": {
        "id": "view-in-github",
        "colab_type": "text"
      },
      "source": [
        "<a href=\"https://colab.research.google.com/github/MisterGusMan/IGTI_Bootcamp_ML/blob/main/Aula_inaugural.ipynb\" target=\"_parent\"><img src=\"https://colab.research.google.com/assets/colab-badge.svg\" alt=\"Open In Colab\"/></a>"
      ]
    },
    {
      "cell_type": "code",
      "metadata": {
        "id": "lMDuEpeJLv0I"
      },
      "source": [
        "import numpy as np  # biblioteca utilizada para tratar com número/vetores/matrizes\n",
        "import matplotlib.pyplot as plt  # utilizada para plotar gráficos ao \"estilo\" matlab\n",
        "import pandas as pd #biblioteca utilizada para realizar operações sobre dataframes"
      ],
      "execution_count": 1,
      "outputs": []
    },
    {
      "cell_type": "code",
      "metadata": {
        "id": "RrarQm9FPLe-"
      },
      "source": [
        "import io  #biblioteca utilizada para tratar os comandos de entrada e saida\n",
        "data = pd.read_csv('AAPL.csv') # utilizado para importar o arquivo CSV que contém o banco de dados\n",
        "# Arquivo pode ser importado na aba 'Arquivos1 no Google Colab"
      ],
      "execution_count": 2,
      "outputs": []
    },
    {
      "cell_type": "code",
      "metadata": {
        "id": "xksBCxFcPpAX",
        "colab": {
          "base_uri": "https://localhost:8080/",
          "height": 204
        },
        "outputId": "b7b33010-b83a-4612-a7e9-0bf24e92fb07"
      },
      "source": [
        "data.head() #comando utilizado para mostrar as 5 primeiras colunas do dataframe"
      ],
      "execution_count": 3,
      "outputs": [
        {
          "output_type": "execute_result",
          "data": {
            "text/html": [
              "<div>\n",
              "<style scoped>\n",
              "    .dataframe tbody tr th:only-of-type {\n",
              "        vertical-align: middle;\n",
              "    }\n",
              "\n",
              "    .dataframe tbody tr th {\n",
              "        vertical-align: top;\n",
              "    }\n",
              "\n",
              "    .dataframe thead th {\n",
              "        text-align: right;\n",
              "    }\n",
              "</style>\n",
              "<table border=\"1\" class=\"dataframe\">\n",
              "  <thead>\n",
              "    <tr style=\"text-align: right;\">\n",
              "      <th></th>\n",
              "      <th>Date</th>\n",
              "      <th>Open</th>\n",
              "      <th>High</th>\n",
              "      <th>Low</th>\n",
              "      <th>Close</th>\n",
              "      <th>Adj Close</th>\n",
              "      <th>Volume</th>\n",
              "    </tr>\n",
              "  </thead>\n",
              "  <tbody>\n",
              "    <tr>\n",
              "      <th>0</th>\n",
              "      <td>2013-01-02</td>\n",
              "      <td>79.117142</td>\n",
              "      <td>79.285713</td>\n",
              "      <td>77.375717</td>\n",
              "      <td>78.432854</td>\n",
              "      <td>68.502106</td>\n",
              "      <td>140129500</td>\n",
              "    </tr>\n",
              "    <tr>\n",
              "      <th>1</th>\n",
              "      <td>2013-01-03</td>\n",
              "      <td>78.268570</td>\n",
              "      <td>78.524284</td>\n",
              "      <td>77.285713</td>\n",
              "      <td>77.442856</td>\n",
              "      <td>67.637436</td>\n",
              "      <td>88241300</td>\n",
              "    </tr>\n",
              "    <tr>\n",
              "      <th>2</th>\n",
              "      <td>2013-01-04</td>\n",
              "      <td>76.709999</td>\n",
              "      <td>76.947144</td>\n",
              "      <td>75.118568</td>\n",
              "      <td>75.285713</td>\n",
              "      <td>65.753418</td>\n",
              "      <td>148583400</td>\n",
              "    </tr>\n",
              "    <tr>\n",
              "      <th>3</th>\n",
              "      <td>2013-01-07</td>\n",
              "      <td>74.571426</td>\n",
              "      <td>75.614288</td>\n",
              "      <td>73.599998</td>\n",
              "      <td>74.842857</td>\n",
              "      <td>65.366646</td>\n",
              "      <td>121039100</td>\n",
              "    </tr>\n",
              "    <tr>\n",
              "      <th>4</th>\n",
              "      <td>2013-01-08</td>\n",
              "      <td>75.601425</td>\n",
              "      <td>75.984283</td>\n",
              "      <td>74.464287</td>\n",
              "      <td>75.044289</td>\n",
              "      <td>65.542587</td>\n",
              "      <td>114676800</td>\n",
              "    </tr>\n",
              "  </tbody>\n",
              "</table>\n",
              "</div>"
            ],
            "text/plain": [
              "         Date       Open       High        Low      Close  Adj Close     Volume\n",
              "0  2013-01-02  79.117142  79.285713  77.375717  78.432854  68.502106  140129500\n",
              "1  2013-01-03  78.268570  78.524284  77.285713  77.442856  67.637436   88241300\n",
              "2  2013-01-04  76.709999  76.947144  75.118568  75.285713  65.753418  148583400\n",
              "3  2013-01-07  74.571426  75.614288  73.599998  74.842857  65.366646  121039100\n",
              "4  2013-01-08  75.601425  75.984283  74.464287  75.044289  65.542587  114676800"
            ]
          },
          "metadata": {
            "tags": []
          },
          "execution_count": 3
        }
      ]
    },
    {
      "cell_type": "code",
      "metadata": {
        "id": "VLUdIjnWPxRb",
        "colab": {
          "base_uri": "https://localhost:8080/",
          "height": 296
        },
        "outputId": "3cb9ee4e-9da3-4a2f-f87f-19a2f31e5bff"
      },
      "source": [
        "plt.plot(data[\"Date\"],data[\"Open\"])\n",
        "plt.ylabel(\"Preço\")\n",
        "plt.xlabel(\"Data\")"
      ],
      "execution_count": 4,
      "outputs": [
        {
          "output_type": "execute_result",
          "data": {
            "text/plain": [
              "Text(0.5, 0, 'Data')"
            ]
          },
          "metadata": {
            "tags": []
          },
          "execution_count": 4
        },
        {
          "output_type": "display_data",
          "data": {
            "image/png": "[encoded data removed]",
            "text/plain": [
              "<Figure size 432x288 with 1 Axes>"
            ]
          },
          "metadata": {
            "tags": [],
            "needs_background": "light"
          }
        }
      ]
    },
    {
      "cell_type": "code",
      "metadata": {
        "id": "ZExe9XlurEBH",
        "colab": {
          "base_uri": "https://localhost:8080/",
          "height": 282
        },
        "outputId": "e31a8323-fba2-41b9-dcc3-777d9cb4508e"
      },
      "source": [
        "#comando utilizado para gerar o boxplot\n",
        "#boxplot é empregado para ver se existem outlier\n",
        "data.boxplot(column='Open')"
      ],
      "execution_count": 5,
      "outputs": [
        {
          "output_type": "execute_result",
          "data": {
            "text/plain": [
              "<matplotlib.axes._subplots.AxesSubplot at 0x7f31b485ba10>"
            ]
          },
          "metadata": {
            "tags": []
          },
          "execution_count": 5
        },
        {
          "output_type": "display_data",
          "data": {
            "image/png": "[encoded data removed]",
            "text/plain": [
              "<Figure size 432x288 with 1 Axes>"
            ]
          },
          "metadata": {
            "tags": [],
            "needs_background": "light"
          }
        }
      ]
    },
    {
      "cell_type": "code",
      "metadata": {
        "id": "2XHKu_zOrmJL",
        "colab": {
          "base_uri": "https://localhost:8080/"
        },
        "outputId": "959933bd-4909-4825-8593-82d0fdcb2648"
      },
      "source": [
        "#comando utilizado para verificar se existem dados nulos, numéricos ou não\n",
        "data.info()"
      ],
      "execution_count": 6,
      "outputs": [
        {
          "output_type": "stream",
          "text": [
            "<class 'pandas.core.frame.DataFrame'>\n",
            "RangeIndex: 1509 entries, 0 to 1508\n",
            "Data columns (total 7 columns):\n",
            " #   Column     Non-Null Count  Dtype  \n",
            "---  ------     --------------  -----  \n",
            " 0   Date       1509 non-null   object \n",
            " 1   Open       1509 non-null   float64\n",
            " 2   High       1509 non-null   float64\n",
            " 3   Low        1509 non-null   float64\n",
            " 4   Close      1509 non-null   float64\n",
            " 5   Adj Close  1509 non-null   float64\n",
            " 6   Volume     1509 non-null   int64  \n",
            "dtypes: float64(5), int64(1), object(1)\n",
            "memory usage: 82.6+ KB\n"
          ],
          "name": "stdout"
        }
      ]
    },
    {
      "cell_type": "code",
      "metadata": {
        "id": "VjdjnXa7QnOB",
        "colab": {
          "base_uri": "https://localhost:8080/"
        },
        "outputId": "df470059-c509-4dc5-ca51-2ae15b0be78c"
      },
      "source": [
        "#preparando os dados para a entrada\n",
        "entradas=data.iloc[:,1:2].values # retira do dataframe apenas a coluna relativa ao preço de abertura das ações\n",
        "entradas[:5] #utilizada para realiar um print apenas das 5 primeiras linhas (pode ser visto que esse é um array, não um dataframe)"
      ],
      "execution_count": 7,
      "outputs": [
        {
          "output_type": "execute_result",
          "data": {
            "text/plain": [
              "array([[79.117142],\n",
              "       [78.26857 ],\n",
              "       [76.709999],\n",
              "       [74.571426],\n",
              "       [75.601425]])"
            ]
          },
          "metadata": {
            "tags": []
          },
          "execution_count": 7
        }
      ]
    },
    {
      "cell_type": "code",
      "metadata": {
        "id": "PsB8un-eafmg"
      },
      "source": [
        "#normalizando os dados (os algoritmos de ML, em geral, não trabalham bem com dados em escalas diferentes)\n",
        "from sklearn.preprocessing import MinMaxScaler  #biblioteca utilizada para realizar o preprocessamento dos dados\n",
        "scaler = MinMaxScaler(feature_range = (0, 1))    #cria o objeto que será utilizado para realizar a normalização dos dados\n",
        "                                                 # feaure_range = define o intervalo de escala dos dados\n",
        "\n",
        "dados_normalizados = scaler.fit_transform(entradas)  # aplica o método de transformação dos dados"
      ],
      "execution_count": 8,
      "outputs": []
    },
    {
      "cell_type": "code",
      "metadata": {
        "id": "q4ZhQIZ3b3Sl",
        "colab": {
          "base_uri": "https://localhost:8080/"
        },
        "outputId": "853a4cec-63d0-4b50-c29f-b04e94cd1248"
      },
      "source": [
        "dados_normalizados[:5]"
      ],
      "execution_count": 9,
      "outputs": [
        {
          "output_type": "execute_result",
          "data": {
            "text/plain": [
              "array([[0.13511311],\n",
              "       [0.13027396],\n",
              "       [0.12138591],\n",
              "       [0.10919028],\n",
              "       [0.11506405]])"
            ]
          },
          "metadata": {
            "tags": []
          },
          "execution_count": 9
        }
      ]
    },
    {
      "cell_type": "code",
      "metadata": {
        "id": "ph-s1KcJPSsa"
      },
      "source": [
        "#Como as redes recorrentes utilizam dados no tempo T e valores passados (T-n), a entrada da rede deve conter os \n",
        "#valores presentes e os (T-n). Assim, é necessário realizar uma modificação nos dados\n",
        "features_set = []  \n",
        "labels = []  \n",
        "for i in range(60, 1259):  \n",
        "    features_set.append(dados_normalizados[i-60:i, 0])\n",
        "    labels.append(dados_normalizados[i, 0])"
      ],
      "execution_count": 10,
      "outputs": []
    },
    {
      "cell_type": "code",
      "metadata": {
        "id": "IlfLTYKOdhmw"
      },
      "source": [
        "#transformando os dados em um array para serem utilizados como entrada\n",
        "features_set, labels = np.array(features_set), np.array(labels)  "
      ],
      "execution_count": 11,
      "outputs": []
    },
    {
      "cell_type": "code",
      "metadata": {
        "id": "rt_20I0ojB_C",
        "colab": {
          "base_uri": "https://localhost:8080/"
        },
        "outputId": "decf446e-ccb0-40f9-aaa1-bbd689955e52"
      },
      "source": [
        "#conferindo a dimensão dos dados\n",
        "print(features_set.shape) # método utilizado para retornar a dimensão dos dados\n",
        "print(labels.shape)"
      ],
      "execution_count": 12,
      "outputs": [
        {
          "output_type": "stream",
          "text": [
            "(1199, 60)\n",
            "(1199,)\n"
          ],
          "name": "stdout"
        }
      ]
    },
    {
      "cell_type": "code",
      "metadata": {
        "id": "D75_NAT7kFT4",
        "colab": {
          "base_uri": "https://localhost:8080/"
        },
        "outputId": "5a852a1c-af82-439c-8276-da62e1956abc"
      },
      "source": [
        "#transformando os dados para o formato aceito pelas redes recorrentes do Keras\n",
        "# 1 - formato em 3D\n",
        "# (a,b,c) -> a = número de linhas do dataset\n",
        "#         -> b = número de steps (entradas) da rede\n",
        "#         -> c = número de saídas (indicators)\n",
        "\n",
        "# método da biblioteca numpy que é utilizado para converter os dados de entrada (1199,60) em (1199,60,1)\n",
        "features_set = np.reshape(features_set, (features_set.shape[0], features_set.shape[1], 1))  # \n",
        "print(features_set.shape)"
      ],
      "execution_count": 13,
      "outputs": [
        {
          "output_type": "stream",
          "text": [
            "(1199, 60, 1)\n"
          ],
          "name": "stdout"
        }
      ]
    },
    {
      "cell_type": "code",
      "metadata": {
        "id": "mZpDWIatmG7m"
      },
      "source": [
        "from keras.models import Sequential  #classe utilizada para criar o modelo sequencial utilizando o keras\n",
        "from keras.layers import Dense  # Classe utilizada para criar as camadas que são completamente conectadas\n",
        "from keras.layers import LSTM  # Classe para a rede recorrente utilizando Long Shor Term Memory\n",
        "from keras.layers import Dropout # Classe utilizada para a camada de dropout (utilizada para evitar o overfiting)"
      ],
      "execution_count": 14,
      "outputs": []
    },
    {
      "cell_type": "code",
      "metadata": {
        "id": "u7-XIBlEmurs"
      },
      "source": [
        "model = Sequential()  # objeto para a criação do modelo keras sequencial\n",
        "model.add(LSTM(units=50, return_sequences=True, input_shape=(features_set.shape[1], 1)))  #cria a camada de entrada\n",
        "# como pode ser visto, ela é adicionada como uma pilha, cada nova camada é adicionada com o método add\n",
        "# na camada de entrada, é necessário definir o tamanho do vetor de entrada (input_shape)\n",
        "# units=50 indica que na camada de entrada devem existir 50 neurônios\n",
        "# return_sequences= True indica que devem ser adicionadas novas camadas\n"
      ],
      "execution_count": 15,
      "outputs": []
    },
    {
      "cell_type": "code",
      "metadata": {
        "id": "NE8o5SiSn7wH"
      },
      "source": [
        "#adição da camada de dropout\n",
        "model.add(Dropout(0.2))  # o valor de 0.2 indica que 20% dos neurônios dessa camada serão perdidos para cada interação"
      ],
      "execution_count": 16,
      "outputs": []
    },
    {
      "cell_type": "code",
      "metadata": {
        "id": "urnv6b3JoJwd"
      },
      "source": [
        "#Adicionando mais camadas ao modelo \n",
        "model.add(LSTM(units=50, return_sequences=True))  \n",
        "model.add(Dropout(0.2))\n",
        "\n",
        "\n",
        "model.add(LSTM(units=50, return_sequences=True))  \n",
        "model.add(Dropout(0.2))\n",
        "\n",
        "model.add(LSTM(units=50))  # como essa é a última camada LSTM utilizada, a variável return_sequences=False \n",
        "model.add(Dropout(0.2))  "
      ],
      "execution_count": 17,
      "outputs": []
    },
    {
      "cell_type": "code",
      "metadata": {
        "id": "8ptBDLdiok70"
      },
      "source": [
        "#adiciona a camada de saída com apenas 1 neurônio, pois vamos realizar a previsão de apenas uma variável (Previsão do valor de abertura)\n",
        "model.add(Dense(units = 1))"
      ],
      "execution_count": 18,
      "outputs": []
    },
    {
      "cell_type": "code",
      "metadata": {
        "id": "Qw3EcoiPoz6d",
        "colab": {
          "base_uri": "https://localhost:8080/"
        },
        "outputId": "3ab410b3-b87c-40b7-a003-aa0ea1253325"
      },
      "source": [
        "#comando utilizado para ver a configuração do nosso modelo\n",
        "model.summary()"
      ],
      "execution_count": 19,
      "outputs": [
        {
          "output_type": "stream",
          "text": [
            "Model: \"sequential\"\n",
            "_________________________________________________________________\n",
            "Layer (type)                 Output Shape              Param #   \n",
            "=================================================================\n",
            "lstm (LSTM)                  (None, 60, 50)            10400     \n",
            "_________________________________________________________________\n",
            "dropout (Dropout)            (None, 60, 50)            0         \n",
            "_________________________________________________________________\n",
            "lstm_1 (LSTM)                (None, 60, 50)            20200     \n",
            "_________________________________________________________________\n",
            "dropout_1 (Dropout)          (None, 60, 50)            0         \n",
            "_________________________________________________________________\n",
            "lstm_2 (LSTM)                (None, 60, 50)            20200     \n",
            "_________________________________________________________________\n",
            "dropout_2 (Dropout)          (None, 60, 50)            0         \n",
            "_________________________________________________________________\n",
            "lstm_3 (LSTM)                (None, 50)                20200     \n",
            "_________________________________________________________________\n",
            "dropout_3 (Dropout)          (None, 50)                0         \n",
            "_________________________________________________________________\n",
            "dense (Dense)                (None, 1)                 51        \n",
            "=================================================================\n",
            "Total params: 71,051\n",
            "Trainable params: 71,051\n",
            "Non-trainable params: 0\n",
            "_________________________________________________________________\n"
          ],
          "name": "stdout"
        }
      ]
    },
    {
      "cell_type": "code",
      "metadata": {
        "id": "EpQa5EyWpDAl"
      },
      "source": [
        "#definição do tipo de função perda a ser utilizada e do tipo do otimizador \n",
        "# o otimizador é utilizado para minimizar a função perda\n",
        "# a função perda indica como deve ser calculado o erro do modelo (valor real - valor previsto)\n",
        "model.compile(optimizer = 'adam', loss = 'mean_squared_error')"
      ],
      "execution_count": 20,
      "outputs": []
    },
    {
      "cell_type": "code",
      "metadata": {
        "id": "JCcODp-zplRh",
        "colab": {
          "base_uri": "https://localhost:8080/"
        },
        "outputId": "816c1c2a-73f1-4b70-d5ad-dc1035450a7a"
      },
      "source": [
        "#treinamento do modelo\n",
        "model.fit(features_set, labels, epochs = 100, batch_size = 32)  \n",
        "# valores de entrada\n",
        "# saída\n",
        "# número épocas para o treinamento (vezes em que vamos realizar interações durante o treinamento)\n",
        "#batch_size = quantidade de dados utilizados por vez para realizar o treinamento"
      ],
      "execution_count": 21,
      "outputs": [
        {
          "output_type": "stream",
          "text": [
            "Epoch 1/100\n",
            "38/38 [==============================] - 8s 16ms/step - loss: 0.0400\n",
            "Epoch 2/100\n",
            "38/38 [==============================] - 1s 14ms/step - loss: 0.0033\n",
            "Epoch 3/100\n",
            "38/38 [==============================] - 1s 14ms/step - loss: 0.0021\n",
            "Epoch 4/100\n",
            "38/38 [==============================] - 1s 14ms/step - loss: 0.0024\n",
            "Epoch 5/100\n",
            "38/38 [==============================] - 1s 14ms/step - loss: 0.0029\n",
            "Epoch 6/100\n",
            "38/38 [==============================] - 1s 13ms/step - loss: 0.0021\n",
            "Epoch 7/100\n",
            "38/38 [==============================] - 1s 13ms/step - loss: 0.0019\n",
            "Epoch 8/100\n",
            "38/38 [==============================] - 0s 13ms/step - loss: 0.0016\n",
            "Epoch 9/100\n",
            "38/38 [==============================] - 1s 13ms/step - loss: 0.0017\n",
            "Epoch 10/100\n",
            "38/38 [==============================] - 1s 14ms/step - loss: 0.0018\n",
            "Epoch 11/100\n",
            "38/38 [==============================] - 1s 13ms/step - loss: 0.0015\n",
            "Epoch 12/100\n",
            "38/38 [==============================] - 1s 13ms/step - loss: 0.0015\n",
            "Epoch 13/100\n",
            "38/38 [==============================] - 1s 13ms/step - loss: 0.0015\n",
            "Epoch 14/100\n",
            "38/38 [==============================] - 1s 13ms/step - loss: 0.0014\n",
            "Epoch 15/100\n",
            "38/38 [==============================] - 1s 13ms/step - loss: 0.0015\n",
            "Epoch 16/100\n",
            "38/38 [==============================] - 1s 14ms/step - loss: 0.0013\n",
            "Epoch 17/100\n",
            "38/38 [==============================] - 1s 14ms/step - loss: 0.0016\n",
            "Epoch 18/100\n",
            "38/38 [==============================] - 0s 13ms/step - loss: 0.0011\n",
            "Epoch 19/100\n",
            "38/38 [==============================] - 0s 13ms/step - loss: 0.0014\n",
            "Epoch 20/100\n",
            "38/38 [==============================] - 1s 13ms/step - loss: 0.0014\n",
            "Epoch 21/100\n",
            "38/38 [==============================] - 0s 13ms/step - loss: 0.0014\n",
            "Epoch 22/100\n",
            "38/38 [==============================] - 0s 13ms/step - loss: 0.0011\n",
            "Epoch 23/100\n",
            "38/38 [==============================] - 0s 13ms/step - loss: 0.0012\n",
            "Epoch 24/100\n",
            "38/38 [==============================] - 1s 14ms/step - loss: 0.0014\n",
            "Epoch 25/100\n",
            "38/38 [==============================] - 1s 14ms/step - loss: 0.0012\n",
            "Epoch 26/100\n",
            "38/38 [==============================] - 1s 15ms/step - loss: 0.0013\n",
            "Epoch 27/100\n",
            "38/38 [==============================] - 1s 14ms/step - loss: 0.0011\n",
            "Epoch 28/100\n",
            "38/38 [==============================] - 1s 14ms/step - loss: 9.9224e-04\n",
            "Epoch 29/100\n",
            "38/38 [==============================] - 1s 13ms/step - loss: 0.0012\n",
            "Epoch 30/100\n",
            "38/38 [==============================] - 0s 13ms/step - loss: 0.0012\n",
            "Epoch 31/100\n",
            "38/38 [==============================] - 1s 13ms/step - loss: 0.0010\n",
            "Epoch 32/100\n",
            "38/38 [==============================] - 1s 13ms/step - loss: 9.4825e-04\n",
            "Epoch 33/100\n",
            "38/38 [==============================] - 1s 13ms/step - loss: 9.6103e-04\n",
            "Epoch 34/100\n",
            "38/38 [==============================] - 1s 14ms/step - loss: 0.0011\n",
            "Epoch 35/100\n",
            "38/38 [==============================] - 0s 13ms/step - loss: 9.6609e-04\n",
            "Epoch 36/100\n",
            "38/38 [==============================] - 1s 14ms/step - loss: 0.0010\n",
            "Epoch 37/100\n",
            "38/38 [==============================] - 1s 14ms/step - loss: 0.0010\n",
            "Epoch 38/100\n",
            "38/38 [==============================] - 0s 13ms/step - loss: 9.5741e-04\n",
            "Epoch 39/100\n",
            "38/38 [==============================] - 1s 13ms/step - loss: 9.3310e-04\n",
            "Epoch 40/100\n",
            "38/38 [==============================] - 1s 14ms/step - loss: 9.3293e-04\n",
            "Epoch 41/100\n",
            "38/38 [==============================] - 1s 14ms/step - loss: 8.9410e-04\n",
            "Epoch 42/100\n",
            "38/38 [==============================] - 1s 13ms/step - loss: 8.2324e-04\n",
            "Epoch 43/100\n",
            "38/38 [==============================] - 1s 13ms/step - loss: 8.0583e-04\n",
            "Epoch 44/100\n",
            "38/38 [==============================] - 1s 13ms/step - loss: 8.9991e-04\n",
            "Epoch 45/100\n",
            "38/38 [==============================] - 1s 14ms/step - loss: 9.8563e-04\n",
            "Epoch 46/100\n",
            "38/38 [==============================] - 1s 14ms/step - loss: 7.7002e-04\n",
            "Epoch 47/100\n",
            "38/38 [==============================] - 0s 13ms/step - loss: 8.2197e-04\n",
            "Epoch 48/100\n",
            "38/38 [==============================] - 1s 13ms/step - loss: 8.6975e-04\n",
            "Epoch 49/100\n",
            "38/38 [==============================] - 0s 13ms/step - loss: 7.6328e-04\n",
            "Epoch 50/100\n",
            "38/38 [==============================] - 1s 13ms/step - loss: 7.7405e-04\n",
            "Epoch 51/100\n",
            "38/38 [==============================] - 1s 13ms/step - loss: 7.3551e-04\n",
            "Epoch 52/100\n",
            "38/38 [==============================] - 1s 13ms/step - loss: 7.8977e-04\n",
            "Epoch 53/100\n",
            "38/38 [==============================] - 0s 13ms/step - loss: 7.5637e-04\n",
            "Epoch 54/100\n",
            "38/38 [==============================] - 1s 13ms/step - loss: 7.4492e-04\n",
            "Epoch 55/100\n",
            "38/38 [==============================] - 1s 13ms/step - loss: 7.5732e-04\n",
            "Epoch 56/100\n",
            "38/38 [==============================] - 1s 13ms/step - loss: 6.8112e-04\n",
            "Epoch 57/100\n",
            "38/38 [==============================] - 1s 13ms/step - loss: 7.5228e-04\n",
            "Epoch 58/100\n",
            "38/38 [==============================] - 1s 14ms/step - loss: 8.7221e-04\n",
            "Epoch 59/100\n",
            "38/38 [==============================] - 1s 13ms/step - loss: 7.5345e-04\n",
            "Epoch 60/100\n",
            "38/38 [==============================] - 1s 14ms/step - loss: 7.8732e-04\n",
            "Epoch 61/100\n",
            "38/38 [==============================] - 0s 13ms/step - loss: 6.7116e-04\n",
            "Epoch 62/100\n",
            "38/38 [==============================] - 1s 14ms/step - loss: 6.8888e-04\n",
            "Epoch 63/100\n",
            "38/38 [==============================] - 0s 13ms/step - loss: 7.4778e-04\n",
            "Epoch 64/100\n",
            "38/38 [==============================] - 1s 14ms/step - loss: 6.7491e-04\n",
            "Epoch 65/100\n",
            "38/38 [==============================] - 1s 13ms/step - loss: 6.4452e-04\n",
            "Epoch 66/100\n",
            "38/38 [==============================] - 1s 14ms/step - loss: 6.3668e-04\n",
            "Epoch 67/100\n",
            "38/38 [==============================] - 0s 13ms/step - loss: 7.5737e-04\n",
            "Epoch 68/100\n",
            "38/38 [==============================] - 1s 13ms/step - loss: 7.1655e-04\n",
            "Epoch 69/100\n",
            "38/38 [==============================] - 0s 13ms/step - loss: 5.7335e-04\n",
            "Epoch 70/100\n",
            "38/38 [==============================] - 0s 13ms/step - loss: 7.2299e-04\n",
            "Epoch 71/100\n",
            "38/38 [==============================] - 0s 13ms/step - loss: 6.0993e-04\n",
            "Epoch 72/100\n",
            "38/38 [==============================] - 0s 13ms/step - loss: 6.3501e-04\n",
            "Epoch 73/100\n",
            "38/38 [==============================] - 0s 13ms/step - loss: 7.5683e-04\n",
            "Epoch 74/100\n",
            "38/38 [==============================] - 0s 13ms/step - loss: 6.7218e-04\n",
            "Epoch 75/100\n",
            "38/38 [==============================] - 0s 13ms/step - loss: 7.0760e-04\n",
            "Epoch 76/100\n",
            "38/38 [==============================] - 0s 13ms/step - loss: 6.0662e-04\n",
            "Epoch 77/100\n",
            "38/38 [==============================] - 0s 12ms/step - loss: 6.1004e-04\n",
            "Epoch 78/100\n",
            "38/38 [==============================] - 0s 12ms/step - loss: 7.0810e-04\n",
            "Epoch 79/100\n",
            "38/38 [==============================] - 0s 12ms/step - loss: 5.4046e-04\n",
            "Epoch 80/100\n",
            "38/38 [==============================] - 0s 12ms/step - loss: 6.8319e-04\n",
            "Epoch 81/100\n",
            "38/38 [==============================] - 0s 12ms/step - loss: 7.2823e-04\n",
            "Epoch 82/100\n",
            "38/38 [==============================] - 0s 12ms/step - loss: 6.0657e-04\n",
            "Epoch 83/100\n",
            "38/38 [==============================] - 0s 13ms/step - loss: 6.4516e-04\n",
            "Epoch 84/100\n",
            "38/38 [==============================] - 0s 13ms/step - loss: 5.1936e-04\n",
            "Epoch 85/100\n",
            "38/38 [==============================] - 0s 13ms/step - loss: 5.7748e-04\n",
            "Epoch 86/100\n",
            "38/38 [==============================] - 1s 13ms/step - loss: 7.2866e-04\n",
            "Epoch 87/100\n",
            "38/38 [==============================] - 0s 13ms/step - loss: 5.2311e-04\n",
            "Epoch 88/100\n",
            "38/38 [==============================] - 0s 12ms/step - loss: 6.2441e-04\n",
            "Epoch 89/100\n",
            "38/38 [==============================] - 0s 12ms/step - loss: 5.4506e-04\n",
            "Epoch 90/100\n",
            "38/38 [==============================] - 0s 13ms/step - loss: 5.5192e-04\n",
            "Epoch 91/100\n",
            "38/38 [==============================] - 0s 13ms/step - loss: 4.7817e-04\n",
            "Epoch 92/100\n",
            "38/38 [==============================] - 0s 13ms/step - loss: 5.3655e-04\n",
            "Epoch 93/100\n",
            "38/38 [==============================] - 0s 13ms/step - loss: 5.9070e-04\n",
            "Epoch 94/100\n",
            "38/38 [==============================] - 0s 13ms/step - loss: 7.0351e-04\n",
            "Epoch 95/100\n",
            "38/38 [==============================] - 0s 13ms/step - loss: 5.1374e-04\n",
            "Epoch 96/100\n",
            "38/38 [==============================] - 0s 13ms/step - loss: 5.4618e-04\n",
            "Epoch 97/100\n",
            "38/38 [==============================] - 0s 13ms/step - loss: 5.0762e-04\n",
            "Epoch 98/100\n",
            "38/38 [==============================] - 0s 13ms/step - loss: 5.1560e-04\n",
            "Epoch 99/100\n",
            "38/38 [==============================] - 0s 13ms/step - loss: 5.1903e-04\n",
            "Epoch 100/100\n",
            "38/38 [==============================] - 0s 13ms/step - loss: 5.4058e-04\n"
          ],
          "name": "stdout"
        },
        {
          "output_type": "execute_result",
          "data": {
            "text/plain": [
              "<tensorflow.python.keras.callbacks.History at 0x7f317214b2d0>"
            ]
          },
          "metadata": {
            "tags": []
          },
          "execution_count": 21
        }
      ]
    },
    {
      "cell_type": "code",
      "metadata": {
        "id": "A7jZA_JyzwwH"
      },
      "source": [
        "data_test = pd.read_csv('AAPL_previsao.csv') # utilizado para importar o arquivo CSV que contém o banco de dados para teste"
      ],
      "execution_count": 29,
      "outputs": []
    },
    {
      "cell_type": "code",
      "metadata": {
        "id": "6RZd0yZwz7S8",
        "colab": {
          "base_uri": "https://localhost:8080/",
          "height": 204
        },
        "outputId": "b1ec7882-d473-401e-e670-70e5f1a23aee"
      },
      "source": [
        "data_test.head() #verifica as 5 primeiras linhas do dataframe utilizado para teste"
      ],
      "execution_count": 30,
      "outputs": [
        {
          "output_type": "execute_result",
          "data": {
            "text/html": [
              "<div>\n",
              "<style scoped>\n",
              "    .dataframe tbody tr th:only-of-type {\n",
              "        vertical-align: middle;\n",
              "    }\n",
              "\n",
              "    .dataframe tbody tr th {\n",
              "        vertical-align: top;\n",
              "    }\n",
              "\n",
              "    .dataframe thead th {\n",
              "        text-align: right;\n",
              "    }\n",
              "</style>\n",
              "<table border=\"1\" class=\"dataframe\">\n",
              "  <thead>\n",
              "    <tr style=\"text-align: right;\">\n",
              "      <th></th>\n",
              "      <th>Date</th>\n",
              "      <th>Open</th>\n",
              "      <th>High</th>\n",
              "      <th>Low</th>\n",
              "      <th>Close</th>\n",
              "      <th>Adj Close</th>\n",
              "      <th>Volume</th>\n",
              "    </tr>\n",
              "  </thead>\n",
              "  <tbody>\n",
              "    <tr>\n",
              "      <th>0</th>\n",
              "      <td>2019-01-02</td>\n",
              "      <td>154.889999</td>\n",
              "      <td>158.850006</td>\n",
              "      <td>154.229996</td>\n",
              "      <td>157.919998</td>\n",
              "      <td>154.794983</td>\n",
              "      <td>37039700</td>\n",
              "    </tr>\n",
              "    <tr>\n",
              "      <th>1</th>\n",
              "      <td>2019-01-03</td>\n",
              "      <td>143.979996</td>\n",
              "      <td>145.720001</td>\n",
              "      <td>142.000000</td>\n",
              "      <td>142.190002</td>\n",
              "      <td>139.376251</td>\n",
              "      <td>91312200</td>\n",
              "    </tr>\n",
              "    <tr>\n",
              "      <th>2</th>\n",
              "      <td>2019-01-04</td>\n",
              "      <td>144.529999</td>\n",
              "      <td>148.550003</td>\n",
              "      <td>143.800003</td>\n",
              "      <td>148.259995</td>\n",
              "      <td>145.326126</td>\n",
              "      <td>58607100</td>\n",
              "    </tr>\n",
              "    <tr>\n",
              "      <th>3</th>\n",
              "      <td>2019-01-07</td>\n",
              "      <td>148.699997</td>\n",
              "      <td>148.830002</td>\n",
              "      <td>145.899994</td>\n",
              "      <td>147.929993</td>\n",
              "      <td>145.002686</td>\n",
              "      <td>54777800</td>\n",
              "    </tr>\n",
              "    <tr>\n",
              "      <th>4</th>\n",
              "      <td>2019-01-08</td>\n",
              "      <td>149.559998</td>\n",
              "      <td>151.820007</td>\n",
              "      <td>148.520004</td>\n",
              "      <td>150.750000</td>\n",
              "      <td>147.766861</td>\n",
              "      <td>41025300</td>\n",
              "    </tr>\n",
              "  </tbody>\n",
              "</table>\n",
              "</div>"
            ],
            "text/plain": [
              "         Date        Open        High  ...       Close   Adj Close    Volume\n",
              "0  2019-01-02  154.889999  158.850006  ...  157.919998  154.794983  37039700\n",
              "1  2019-01-03  143.979996  145.720001  ...  142.190002  139.376251  91312200\n",
              "2  2019-01-04  144.529999  148.550003  ...  148.259995  145.326126  58607100\n",
              "3  2019-01-07  148.699997  148.830002  ...  147.929993  145.002686  54777800\n",
              "4  2019-01-08  149.559998  151.820007  ...  150.750000  147.766861  41025300\n",
              "\n",
              "[5 rows x 7 columns]"
            ]
          },
          "metadata": {
            "tags": []
          },
          "execution_count": 30
        }
      ]
    },
    {
      "cell_type": "code",
      "metadata": {
        "id": "PfwaPDLr0DYY",
        "colab": {
          "base_uri": "https://localhost:8080/",
          "height": 282
        },
        "outputId": "9fdc3124-a227-4b69-cb07-e37e758d1ab5"
      },
      "source": [
        "plt.plot(data_test.Date,data_test.Open) #plot para os dados a serem utilizados como teste"
      ],
      "execution_count": 31,
      "outputs": [
        {
          "output_type": "execute_result",
          "data": {
            "text/plain": [
              "[<matplotlib.lines.Line2D at 0x7f311deb03d0>]"
            ]
          },
          "metadata": {
            "tags": []
          },
          "execution_count": 31
        },
        {
          "output_type": "display_data",
          "data": {
            "image/png": "[encoded data removed]",
            "text/plain": [
              "<Figure size 432x288 with 1 Axes>"
            ]
          },
          "metadata": {
            "tags": [],
            "needs_background": "light"
          }
        }
      ]
    },
    {
      "cell_type": "code",
      "metadata": {
        "id": "d_Aep4V63P1o"
      },
      "source": [
        "df_data_apple=data_test.iloc[:, 1:2].values"
      ],
      "execution_count": 32,
      "outputs": []
    },
    {
      "cell_type": "code",
      "metadata": {
        "id": "aSRHQY9S0SVl"
      },
      "source": [
        "df_data_apple = pd.concat((data['Open'], data_test['Open']), axis=0)  # concatena os dados utilizados para teste e os utilizados para treinamento, tudo em um mesmo dataframe de 1 coluna\n"
      ],
      "execution_count": 33,
      "outputs": []
    },
    {
      "cell_type": "code",
      "metadata": {
        "id": "vxl-jhdZ0wN3",
        "colab": {
          "base_uri": "https://localhost:8080/"
        },
        "outputId": "087ac026-a1bc-4f53-d854-66cf8a3ce794"
      },
      "source": [
        "df_data_apple.head()"
      ],
      "execution_count": 34,
      "outputs": [
        {
          "output_type": "execute_result",
          "data": {
            "text/plain": [
              "0    79.117142\n",
              "1    78.268570\n",
              "2    76.709999\n",
              "3    74.571426\n",
              "4    75.601425\n",
              "Name: Open, dtype: float64"
            ]
          },
          "metadata": {
            "tags": []
          },
          "execution_count": 34
        }
      ]
    },
    {
      "cell_type": "code",
      "metadata": {
        "id": "cHguzy2S06t6"
      },
      "source": [
        "test_inputs = df_data_apple[len(df_data_apple) - len(data_test) - 60:].values  \n"
      ],
      "execution_count": 35,
      "outputs": []
    },
    {
      "cell_type": "code",
      "metadata": {
        "id": "ZdyRMTYJ1l0v"
      },
      "source": [
        "#normalização dos dados para teste, como fizemos com os dados de treinamento\n",
        "test_inputs = test_inputs.reshape(-1,1)  \n",
        "test_inputs = scaler.transform(test_inputs)  "
      ],
      "execution_count": 36,
      "outputs": []
    },
    {
      "cell_type": "code",
      "metadata": {
        "id": "W5JCdLpd1tuq"
      },
      "source": [
        "#preparação dos 60 dados a setem utilizado\n",
        "test_features = []  \n",
        "for i in range(60, 80):  \n",
        "    test_features.append(test_inputs[i-60:i, 0])"
      ],
      "execution_count": 37,
      "outputs": []
    },
    {
      "cell_type": "code",
      "metadata": {
        "id": "ZS-mnPqk19LM"
      },
      "source": [
        "#preparando os dados como entrada para o modelo de previsão \n",
        "test_features = np.array(test_features)  \n",
        "test_features = np.reshape(test_features, (test_features.shape[0], test_features.shape[1], 1)) "
      ],
      "execution_count": 38,
      "outputs": []
    },
    {
      "cell_type": "code",
      "metadata": {
        "id": "hio5Vu8T2EOS"
      },
      "source": [
        "#previsão utilizando o modelo gerado \n",
        "previsao = model.predict(test_features)  "
      ],
      "execution_count": 39,
      "outputs": []
    },
    {
      "cell_type": "code",
      "metadata": {
        "id": "O2tSI9Uj2NGF"
      },
      "source": [
        "#inverte a transformação (normalização) dos dados de previsão\n",
        "previsao = scaler.inverse_transform(previsao)"
      ],
      "execution_count": 40,
      "outputs": []
    },
    {
      "cell_type": "code",
      "metadata": {
        "id": "p1hylx6yCxLy",
        "colab": {
          "base_uri": "https://localhost:8080/",
          "height": 404
        },
        "outputId": "580b3e66-704a-46e6-8c69-40142f3c7e15"
      },
      "source": [
        "#plot do resultado da previsão e do real\n",
        "plt.figure(figsize=(10,6))  \n",
        "plt.plot(data_test.Open, color='blue', label='Preço Real das Ações da Apple')  \n",
        "plt.plot(previsao , color='red', label='Previsão do Preço das Ações da Apple')  \n",
        "plt.title('Previsão do Preço de Abertura das Ações da Apple')  \n",
        "plt.xlabel('Data')  \n",
        "plt.ylabel('Preço')  \n",
        "plt.legend()  \n",
        "plt.show() "
      ],
      "execution_count": 41,
      "outputs": [
        {
          "output_type": "display_data",
          "data": {
            "image/png": "[encoded data removed]",
            "text/plain": [
              "<Figure size 720x432 with 1 Axes>"
            ]
          },
          "metadata": {
            "tags": [],
            "needs_background": "light"
          }
        }
      ]
    }
  ]
}