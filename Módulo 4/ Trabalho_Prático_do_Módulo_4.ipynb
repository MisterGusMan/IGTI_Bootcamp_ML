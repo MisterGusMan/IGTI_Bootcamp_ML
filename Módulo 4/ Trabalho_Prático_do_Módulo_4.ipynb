{
  "nbformat": 4,
  "nbformat_minor": 0,
  "metadata": {
    "colab": {
      "name": "Trabalho Prático do Módulo 4.ipynb",
      "provenance": [],
      "collapsed_sections": [],
      "authorship_tag": "ABX9TyNNzRgmhC2+zZx9JFEq8G0c",
      "include_colab_link": true
    },
    "kernelspec": {
      "name": "python3",
      "display_name": "Python 3"
    },
    "language_info": {
      "name": "python"
    }
  },
  "cells": [
    {
      "cell_type": "markdown",
      "metadata": {
        "id": "view-in-github",
        "colab_type": "text"
      },
      "source": [
        "<a href=\"https://colab.research.google.com/github/MisterGusMan/IGTI_Bootcamp_ML/blob/main/M%C3%B3dulo%204/%20Trabalho_Pr%C3%A1tico_do_M%C3%B3dulo_4.ipynb\" target=\"_parent\"><img src=\"https://colab.research.google.com/assets/colab-badge.svg\" alt=\"Open In Colab\"/></a>"
      ]
    },
    {
      "cell_type": "markdown",
      "metadata": {
        "id": "zIfjWdT23VeW"
      },
      "source": [
        "O objetivo deste exercício é classificar imagens através do uso de rede neural. Vamos treinar  um modelo  de  rede  neural  para  classificação  de  imagens  de  roupas.  Teremos uma visão geral do uso do TensorFlow.\n",
        "\n",
        "https://www.tensorflow.org/tutorials/keras/classification?hl=pt-br\n",
        "\n",
        "Importando o Keras para contruir e treinar modelos do TensorFlow:"
      ]
    },
    {
      "cell_type": "code",
      "metadata": {
        "id": "iqVo3L2W3DJY"
      },
      "source": [
        "import tensorflow as tf\n",
        "from tensorflow import keras\n",
        "\n",
        "import numpy as np\n",
        "import matplotlib.pyplot as plt\n",
        "%matplotlib inline"
      ],
      "execution_count": null,
      "outputs": []
    },
    {
      "cell_type": "code",
      "metadata": {
        "colab": {
          "base_uri": "https://localhost:8080/"
        },
        "id": "op_t_YU43-bu",
        "outputId": "38f8cc1f-2335-44a3-96a1-112b9875cdf8"
      },
      "source": [
        "print(tf.__version__)"
      ],
      "execution_count": null,
      "outputs": [
        {
          "output_type": "stream",
          "text": [
            "2.5.0\n"
          ],
          "name": "stdout"
        }
      ]
    },
    {
      "cell_type": "markdown",
      "metadata": {
        "id": "ZElqm38D4BeQ"
      },
      "source": [
        "Importar a base de dados Fashion MNIST:"
      ]
    },
    {
      "cell_type": "code",
      "metadata": {
        "colab": {
          "base_uri": "https://localhost:8080/"
        },
        "id": "ZCoP_iY_4Iy4",
        "outputId": "d76a12ba-eb34-4d35-d718-85ca83f810c1"
      },
      "source": [
        "fashion_mnist = keras.datasets.fashion_mnist\n",
        "(train_images , train_labels), (test_images, test_labels) = fashion_mnist.load_data()"
      ],
      "execution_count": null,
      "outputs": [
        {
          "output_type": "stream",
          "text": [
            "Downloading data from https://storage.googleapis.com/tensorflow/tf-keras-datasets/train-labels-idx1-ubyte.gz\n",
            "32768/29515 [=================================] - 0s 0us/step\n",
            "Downloading data from https://storage.googleapis.com/tensorflow/tf-keras-datasets/train-images-idx3-ubyte.gz\n",
            "26427392/26421880 [==============================] - 0s 0us/step\n",
            "Downloading data from https://storage.googleapis.com/tensorflow/tf-keras-datasets/t10k-labels-idx1-ubyte.gz\n",
            "8192/5148 [===============================================] - 0s 0us/step\n",
            "Downloading data from https://storage.googleapis.com/tensorflow/tf-keras-datasets/t10k-images-idx3-ubyte.gz\n",
            "4423680/4422102 [==============================] - 0s 0us/step\n"
          ],
          "name": "stdout"
        }
      ]
    },
    {
      "cell_type": "markdown",
      "metadata": {
        "id": "C95jOwc342lV"
      },
      "source": [
        "Carregando a base de dados que retorna quatro NumPyarrays:\n",
        "\n",
        "▪Os arrays train_images e train_labels são o conjunto de treinamento, os dados do modelo usados para aprender.\n",
        "\n",
        "▪O modelo é testado com o conjunto de teste, os arraystest_images e test_labels. As  imagens  são  arrays NumPy  de  28x28,  com  os  valores  de  pixels  entre  0  to  255. Os labels (alvo da classificação) são um array de inteiros, no intervalo de 0 a 9. \n",
        "\n",
        "Cada  imagem  é  mapeada  com  um  só label, já que os nomes  das  classes não  são incluídos  na  base  de  dados. Armazenaremos os  dados  aqui  para  usá-los mais  tarde  quando formos plotar as imagens:"
      ]
    },
    {
      "cell_type": "code",
      "metadata": {
        "id": "ZPnXN8Jc5WMv"
      },
      "source": [
        "class_names = ['T-shirt/top', 'Trouser', 'Pullover', 'Dress', 'Coat', 'Sandals', 'Shirt', 'Sneaker', 'Bag', 'Ankle Boot']"
      ],
      "execution_count": null,
      "outputs": []
    },
    {
      "cell_type": "markdown",
      "metadata": {
        "id": "ueM0mT-a5-5R"
      },
      "source": [
        "Exploração dos dados:\n",
        "\n",
        "Vamos  explorar  o  formato  da  base  de  dados  antes  de  treinar  o  modelo.  O  próximo comando  mostra  que  existem  60.000  imagens  no  conjunto  de  treinamento,  e  cada imagem é representada em 28 x 28 pixels:"
      ]
    },
    {
      "cell_type": "code",
      "metadata": {
        "colab": {
          "base_uri": "https://localhost:8080/"
        },
        "id": "Q1821v8rrDJo",
        "outputId": "e8d5eee9-4954-4de5-cc38-a9c6369cea11"
      },
      "source": [
        "train_images.shape"
      ],
      "execution_count": null,
      "outputs": [
        {
          "output_type": "execute_result",
          "data": {
            "text/plain": [
              "(60000, 28, 28)"
            ]
          },
          "metadata": {
            "tags": []
          },
          "execution_count": 6
        }
      ]
    },
    {
      "cell_type": "markdown",
      "metadata": {
        "id": "eleqPlM2rJjP"
      },
      "source": [
        "Do mesmo modo, existem 60.000 labels no conjunto de treinamento."
      ]
    },
    {
      "cell_type": "code",
      "metadata": {
        "colab": {
          "base_uri": "https://localhost:8080/"
        },
        "id": "MpZdq08RrIXl",
        "outputId": "327b7ec5-a452-4132-a422-9a316ff8d418"
      },
      "source": [
        "len(train_images)"
      ],
      "execution_count": null,
      "outputs": [
        {
          "output_type": "execute_result",
          "data": {
            "text/plain": [
              "60000"
            ]
          },
          "metadata": {
            "tags": []
          },
          "execution_count": 7
        }
      ]
    },
    {
      "cell_type": "markdown",
      "metadata": {
        "id": "isLGmDeIrO5K"
      },
      "source": [
        "Cada label é um inteiro entre 0 e 9."
      ]
    },
    {
      "cell_type": "code",
      "metadata": {
        "colab": {
          "base_uri": "https://localhost:8080/"
        },
        "id": "gR0XRsNyrPh1",
        "outputId": "1bdf0cea-5f26-490d-f268-0b5062cef999"
      },
      "source": [
        "train_labels"
      ],
      "execution_count": null,
      "outputs": [
        {
          "output_type": "execute_result",
          "data": {
            "text/plain": [
              "array([9, 0, 0, ..., 3, 0, 5], dtype=uint8)"
            ]
          },
          "metadata": {
            "tags": []
          },
          "execution_count": 8
        }
      ]
    },
    {
      "cell_type": "markdown",
      "metadata": {
        "id": "crV-Jg7HrmDF"
      },
      "source": [
        "Repetindo a análise com o conjunto teste:"
      ]
    },
    {
      "cell_type": "code",
      "metadata": {
        "colab": {
          "base_uri": "https://localhost:8080/"
        },
        "id": "7yhii4vjrgf6",
        "outputId": "0f410ede-81f6-48f6-b8c1-9336ccadb988"
      },
      "source": [
        "test_images.shape"
      ],
      "execution_count": null,
      "outputs": [
        {
          "output_type": "execute_result",
          "data": {
            "text/plain": [
              "(10000, 28, 28)"
            ]
          },
          "metadata": {
            "tags": []
          },
          "execution_count": 9
        }
      ]
    },
    {
      "cell_type": "code",
      "metadata": {
        "colab": {
          "base_uri": "https://localhost:8080/"
        },
        "id": "OhlYRHrCrrH0",
        "outputId": "2dffcc03-79ff-4a14-d213-459a3e76c912"
      },
      "source": [
        "len(test_images)"
      ],
      "execution_count": null,
      "outputs": [
        {
          "output_type": "execute_result",
          "data": {
            "text/plain": [
              "10000"
            ]
          },
          "metadata": {
            "tags": []
          },
          "execution_count": 13
        }
      ]
    },
    {
      "cell_type": "code",
      "metadata": {
        "colab": {
          "base_uri": "https://localhost:8080/"
        },
        "id": "R0QCBCsHruDH",
        "outputId": "77063977-08de-46ea-b05f-bc9ae06bcb4e"
      },
      "source": [
        "test_labels"
      ],
      "execution_count": null,
      "outputs": [
        {
          "output_type": "execute_result",
          "data": {
            "text/plain": [
              "array([9, 2, 1, ..., 8, 1, 5], dtype=uint8)"
            ]
          },
          "metadata": {
            "tags": []
          },
          "execution_count": 14
        }
      ]
    },
    {
      "cell_type": "markdown",
      "metadata": {
        "id": "9BykgKS7r2sd"
      },
      "source": [
        "# Pré-processamento dos dados:\n",
        "\n",
        "Os  dados  precisam  ser  pré-processados  antes  de  treinar  a  rede.  Se  você  inspecionar  a primeira imagem do conjunto de treinamento,  você verá que os valores dos pixels estão entre 0 e 255:"
      ]
    },
    {
      "cell_type": "code",
      "metadata": {
        "colab": {
          "base_uri": "https://localhost:8080/",
          "height": 265
        },
        "id": "Nt4BNC4rr9Kr",
        "outputId": "6e713683-9b48-447b-a3f6-c0509b161781"
      },
      "source": [
        "plt.figure()\n",
        "plt.imshow(train_images[0])\n",
        "plt.colorbar()\n",
        "plt.grid(False)"
      ],
      "execution_count": null,
      "outputs": [
        {
          "output_type": "display_data",
          "data": {
            "image/png": "[encoded data removed]",
            "text/plain": [
              "<Figure size 432x288 with 2 Axes>"
            ]
          },
          "metadata": {
            "tags": [],
            "needs_background": "light"
          }
        }
      ]
    },
    {
      "cell_type": "markdown",
      "metadata": {
        "id": "mruj0yfYsR-0"
      },
      "source": [
        "Os  dados  precisam  ser  pré-processados  antes  de  treinar  a  rede.  Se  você  inspecionar  a primeira imagem do conjunto de treinamento,  você verá que os valores dos pixels estão entre 0 e 255.Escalaremos  esses  valores  no  intervalo  de  0  e  1  antes  de  alimentar  o  modelo  da  rede neural.  Para  fazer  isso,  dividiremos  os  valores  por  255.  É importante  que  o conjunto  de treinamento e o conjunto de teste possam ser pré-processados do mesmo modo."
      ]
    },
    {
      "cell_type": "code",
      "metadata": {
        "id": "f160w0d6sS4l"
      },
      "source": [
        "train_images = train_images / 255.0\n",
        "test_images = test_images / 255.0"
      ],
      "execution_count": null,
      "outputs": []
    },
    {
      "cell_type": "markdown",
      "metadata": {
        "id": "74pIM3Zisb0s"
      },
      "source": [
        "Para  verificar  que  os  dados  estão  no  formato  correto  e  que  estamos  prontos  para construir  e  treinar  a  rede,  vamos  mostrar  as  primeiras  25  imagens  doconjunto  de treinamentoe mostrar o nome das classes de cada imagem abaixo."
      ]
    },
    {
      "cell_type": "code",
      "metadata": {
        "colab": {
          "base_uri": "https://localhost:8080/",
          "height": 589
        },
        "id": "P4W8CoZosc5n",
        "outputId": "5d29dc61-cbfa-4d0f-c36a-9d3ca30044e1"
      },
      "source": [
        "plt.figure(figsize=(10,10))\n",
        "for i in range(25):\n",
        "  plt.subplot(5, 5, i+1)\n",
        "  plt.xticks([])\n",
        "  plt.yticks([])\n",
        "  plt.grid(False)\n",
        "  plt.imshow(train_images[i], cmap = plt.cm.binary)\n",
        "  plt.xlabel(class_names[train_labels[i]])"
      ],
      "execution_count": null,
      "outputs": [
        {
          "output_type": "display_data",
          "data": {
            "image/png": "[encoded data removed]",
            "text/plain": [
              "<Figure size 720x720 with 25 Axes>"
            ]
          },
          "metadata": {
            "tags": []
          }
        }
      ]
    },
    {
      "cell_type": "markdown",
      "metadata": {
        "id": "gbYA3rNWtUFj"
      },
      "source": [
        "# Contruindo o modelo:\n",
        "Construir  a  rede  neural  requer configurar  as  camadas  do  modeloe,depois,  compilar  o modelo."
      ]
    },
    {
      "cell_type": "markdown",
      "metadata": {
        "id": "R-Fkp6gktaMo"
      },
      "source": [
        "## Montar as camadas:\n",
        "O principal bloco de construção da rede neural é a camada (layer). As camadas (layers) extraem  representações dos  dados  inseridos  na  rede.  Com  sorte,  essas  representações são significativas para o problema.\n",
        "\n",
        "Muito do deep learning consiste em encadear   simples   camadas.   Muitas   camadas, como tf.keras.layers.Dense, têm parâmetros que são aprendidos durante o treinamento."
      ]
    },
    {
      "cell_type": "code",
      "metadata": {
        "id": "M-o3dPBgteQo"
      },
      "source": [
        "model = keras.Sequential([\n",
        "                          keras.layers.Flatten(input_shape = (28, 28)),\n",
        "                          keras.layers.Dense(128, activation = 'relu'),\n",
        "                          keras.layers.Dense(10, activation = 'softmax')\n",
        "])"
      ],
      "execution_count": null,
      "outputs": []
    },
    {
      "cell_type": "markdown",
      "metadata": {
        "id": "TJs8DAlSuOYU"
      },
      "source": [
        "A  primeira  camada  da  rede,tf.keras.layers.Flatten,  transforma  o  formato  da  imagem  de um  array  de  imagens  de  duas  dimensões  (of  28  by  28  pixels)  para  um  array  de  uma dimensão (de 28 * 28 = 784 pixels). \n",
        "\n",
        "Pense nessa camada como camadas não empilhadas de pixels de uma imagem e os enfileire. Essa camada não tem parâmetros para aprender; ela só reformata os dados.Depois  dos  pixels  serem  achatados,  a  rede consistede  uma  sequência  de  duas camadas tf.keras.layers.Dense. Essas são camadas neuraisdenselyconnected, oufullyconnected.  A  primeira  camadaDensetem  128  nós  (ou  neurônios).  \n",
        "\n",
        "A  segunda  (e última)  camada  é uma softmax de  10  nós, que  retorna  um  array  de  10  probabilidades, cuja  soma  resulta  em  1. Cada  nó contém um  valor  que  indica  a  probabilidade  de  que aquela imagem pertença a uma das 10 classes."
      ]
    },
    {
      "cell_type": "markdown",
      "metadata": {
        "id": "smUS2U0TuZoJ"
      },
      "source": [
        "## Compilação do modelo:\n",
        "Antes   do   modelo   estar   pronto   para   o   treinamento, são necessárias algumas configurações. Essas configurações serão adicionadas no passo de compilação:\n",
        "\n",
        "▪Função  Loss: essa função mede  quão  preciso o  modelo  é  durante  o  treinamento. Queremos minimizar a função para guiar o modelo para a direção certa.\n",
        "\n",
        "▪Optimizer:  isso  é  como  o  modelo  se  atualiza  com  base  no  dado  que  ele  vê  e  sua função loss.\n",
        "\n",
        "▪Métricas: usadas para monitorar os passos de treinamento e teste. O exemplo abaixo usa a acurácia, a fração das imagens que foram classificadas corretamente."
      ]
    },
    {
      "cell_type": "code",
      "metadata": {
        "id": "rTms1x1XulkW"
      },
      "source": [
        "model.compile(optimizer='adam', loss='sparse_categorical_crossentropy', metrics=['accuracy'])"
      ],
      "execution_count": null,
      "outputs": []
    },
    {
      "cell_type": "markdown",
      "metadata": {
        "id": "zrqJkqmzuzIu"
      },
      "source": [
        "## Treinando o modelo:\n",
        "Treinar a rede neural requer os seguintes passos:\n",
        "\n",
        "▪Alimentar o  modelo com  os  dados  de  treinamento.  Neste  exemplo,  os  dados  de treinamento são os arrays train_images e train_labels.\n",
        "\n",
        "▪O modelo aprende como associar as imagens às labels.\n",
        "\n",
        "▪Perguntamos  ao  modelo  para  fazer  previsões  sobre  o  conjunto  de  teste. Nesse exemplo, o   array test_images.   Verificamos   se   as   previsões   combinaram   com as labels do array test_labels. Para  começar  a  treinar,  chame  o  método model.fit, assim  chamado porque  ele “encaixa” o modelo no conjunto de treinamento:"
      ]
    },
    {
      "cell_type": "code",
      "metadata": {
        "colab": {
          "base_uri": "https://localhost:8080/"
        },
        "id": "BqunSFIEvNkV",
        "outputId": "f149121a-820e-4a09-960f-67fb4bb8811b"
      },
      "source": [
        "model.fit(train_images, train_labels, epochs=10)"
      ],
      "execution_count": null,
      "outputs": [
        {
          "output_type": "stream",
          "text": [
            "Epoch 1/10\n",
            "1875/1875 [==============================] - 5s 2ms/step - loss: 0.4991 - accuracy: 0.8252\n",
            "Epoch 2/10\n",
            "1875/1875 [==============================] - 4s 2ms/step - loss: 0.3764 - accuracy: 0.8642\n",
            "Epoch 3/10\n",
            "1875/1875 [==============================] - 4s 2ms/step - loss: 0.3371 - accuracy: 0.8767\n",
            "Epoch 4/10\n",
            "1875/1875 [==============================] - 4s 2ms/step - loss: 0.3139 - accuracy: 0.8845\n",
            "Epoch 5/10\n",
            "1875/1875 [==============================] - 4s 2ms/step - loss: 0.2943 - accuracy: 0.8906\n",
            "Epoch 6/10\n",
            "1875/1875 [==============================] - 4s 2ms/step - loss: 0.2812 - accuracy: 0.8955\n",
            "Epoch 7/10\n",
            "1875/1875 [==============================] - 4s 2ms/step - loss: 0.2698 - accuracy: 0.9000\n",
            "Epoch 8/10\n",
            "1875/1875 [==============================] - 4s 2ms/step - loss: 0.2583 - accuracy: 0.9038\n",
            "Epoch 9/10\n",
            "1875/1875 [==============================] - 4s 2ms/step - loss: 0.2494 - accuracy: 0.9082\n",
            "Epoch 10/10\n",
            "1875/1875 [==============================] - 4s 2ms/step - loss: 0.2394 - accuracy: 0.9112\n"
          ],
          "name": "stdout"
        },
        {
          "output_type": "execute_result",
          "data": {
            "text/plain": [
              "<tensorflow.python.keras.callbacks.History at 0x7fef187b7590>"
            ]
          },
          "metadata": {
            "tags": []
          },
          "execution_count": 27
        }
      ]
    },
    {
      "cell_type": "markdown",
      "metadata": {
        "id": "ljE2UMivvxEU"
      },
      "source": [
        "À  medida  que  o  modelo  treina,  as  métricas  loss  e  acurácia  são  mostradas.  O  modelo atinge uma acurácia de 0.88 (ou 88%) com o conjunto de treinamento."
      ]
    },
    {
      "cell_type": "markdown",
      "metadata": {
        "id": "gFgzwCDjvzZH"
      },
      "source": [
        "## Avaliando a acurácia:\n",
        "Após a compilação, compararemos como o modelo performou com o conjunto de teste:"
      ]
    },
    {
      "cell_type": "code",
      "metadata": {
        "colab": {
          "base_uri": "https://localhost:8080/"
        },
        "id": "hEjFGl-6v9YU",
        "outputId": "08ef6249-7d08-4309-fda9-6fa1e0942b83"
      },
      "source": [
        "test_loss, test_acc = model.evaluate(test_images, test_labels, verbose=2)\n",
        "print('\\nTest Accuracy: ', test_acc)"
      ],
      "execution_count": null,
      "outputs": [
        {
          "output_type": "stream",
          "text": [
            "313/313 - 0s - loss: 0.3252 - accuracy: 0.8894\n",
            "\n",
            "Test Accuracy:  0.8894000053405762\n"
          ],
          "name": "stdout"
        }
      ]
    },
    {
      "cell_type": "markdown",
      "metadata": {
        "id": "UQsn57imwO6x"
      },
      "source": [
        "Aacurácia com o conjunto de teste é um pouco menor do que a acurácia de treinamento. Essa diferença entre as duas acurácias representa umoverfitting. Overfitting é um modelo de aprendizado de máquina queperformou de maneira pior em um conjunto de entradas novas e não usadas anteriormente."
      ]
    },
    {
      "cell_type": "markdown",
      "metadata": {
        "id": "pb-DmbztwRgu"
      },
      "source": [
        "## Gerando predições:\n",
        "Com o modelo treinado, o usaremos para predições de algumas imagens:"
      ]
    },
    {
      "cell_type": "code",
      "metadata": {
        "id": "wRzW3rnFwV3b"
      },
      "source": [
        "pred = model.predict(test_images)"
      ],
      "execution_count": null,
      "outputs": []
    },
    {
      "cell_type": "markdown",
      "metadata": {
        "id": "NJl5AUt_wb5L"
      },
      "source": [
        "Aqui, o modelo previu alabelde cada imagem no conjunto de treinamento. Vamos olhar na primeira predição:"
      ]
    },
    {
      "cell_type": "code",
      "metadata": {
        "colab": {
          "base_uri": "https://localhost:8080/"
        },
        "id": "4q5QS_0rwd1d",
        "outputId": "b0c7a867-b492-418c-9a71-191daa6feb62"
      },
      "source": [
        "pred[0]"
      ],
      "execution_count": null,
      "outputs": [
        {
          "output_type": "execute_result",
          "data": {
            "text/plain": [
              "array([8.3124309e-05, 1.0719949e-08, 7.5944712e-08, 3.5128614e-10,\n",
              "       6.7507848e-08, 2.7652955e-04, 3.1523209e-07, 4.5787510e-03,\n",
              "       3.5049711e-06, 9.9505758e-01], dtype=float32)"
            ]
          },
          "metadata": {
            "tags": []
          },
          "execution_count": 30
        }
      ]
    },
    {
      "cell_type": "markdown",
      "metadata": {
        "id": "QSzO5fwLwksA"
      },
      "source": [
        "A predição é um array de 10 números. Eles representam uma confiança do modelo que a imagem  corresponde  a  cada  um  dos  diferentes  artigos  de  roupa.  Podemos  ver que cada label tem um maior valor de confiança."
      ]
    },
    {
      "cell_type": "code",
      "metadata": {
        "colab": {
          "base_uri": "https://localhost:8080/"
        },
        "id": "72WlgiP6wop5",
        "outputId": "162e89ca-1c87-4408-f9b0-56d851d33000"
      },
      "source": [
        "np.argmax(pred[0])"
      ],
      "execution_count": null,
      "outputs": [
        {
          "output_type": "execute_result",
          "data": {
            "text/plain": [
              "9"
            ]
          },
          "metadata": {
            "tags": []
          },
          "execution_count": 31
        }
      ]
    },
    {
      "cell_type": "markdown",
      "metadata": {
        "id": "jz1EoPR1wsyq"
      },
      "source": [
        "Podemos mostrar graficamente como se parece em um conjunto total de previsão de 10 classes:"
      ]
    },
    {
      "cell_type": "code",
      "metadata": {
        "id": "QN37YGV_wuZ3"
      },
      "source": [
        "def plot_image(i , pred_array, true_label, img):\n",
        "  pred_array, true_label, img = pred_array[i], true_label[i], img[i]\n",
        "  plt.grid(False)\n",
        "  plt.xticks([])\n",
        "  plt.yticks([])\n",
        "\n",
        "  plt.imshow(img, cmap = plt.cm.binary)\n",
        "\n",
        "  pred_label = np.argmax(pred_array)\n",
        "  if pred_label == true_label:\n",
        "    color = 'blue'\n",
        "  else:\n",
        "    color = 'red'\n",
        "\n",
        "  plt.xlabel('{} {:2.0f}% ({})'.format(class_names[pred_label],\n",
        "                                       100 * np.max(pred_array),\n",
        "                                       class_names[true_label]),\n",
        "                                       color = color)\n",
        "\n",
        "def plot_val_array(i , pred_array, true_label):\n",
        "  pred_array, true_label = pred_array[i], true_label[i]\n",
        "  plt.grid(False)\n",
        "  plt.xticks([])\n",
        "  plt.yticks([])\n",
        "  thisplot = plt.bar(range(10), pred_array, color = '#777777')\n",
        "  plt.ylim([0, 1])\n",
        "  pred_label = np.argmax(pred_array)\n",
        "\n",
        "  thisplot[pred_label].set_color('red')\n",
        "  thisplot[true_label].set_color('blue')"
      ],
      "execution_count": null,
      "outputs": []
    },
    {
      "cell_type": "markdown",
      "metadata": {
        "id": "1MmfVYoO0G_a"
      },
      "source": [
        "Vamos olhar a previsão imagem na posição 0, do array de predição:"
      ]
    },
    {
      "cell_type": "code",
      "metadata": {
        "colab": {
          "base_uri": "https://localhost:8080/",
          "height": 203
        },
        "id": "7heP3tVL0IGV",
        "outputId": "2b2210f7-39c9-43d5-84b3-9668779bda76"
      },
      "source": [
        "i = 0\n",
        "plt.figure(figsize = (6,3))\n",
        "plt.subplot(1, 2, 1)\n",
        "plot_image(i , pred, test_labels, test_images)\n",
        "plt.subplot(1, 2, 2)\n",
        "plot_val_array(i, pred, test_labels)"
      ],
      "execution_count": null,
      "outputs": [
        {
          "output_type": "display_data",
          "data": {
            "image/png": "[encoded data removed]",
            "text/plain": [
              "<Figure size 432x216 with 2 Axes>"
            ]
          },
          "metadata": {
            "tags": []
          }
        }
      ]
    },
    {
      "cell_type": "code",
      "metadata": {
        "colab": {
          "base_uri": "https://localhost:8080/",
          "height": 203
        },
        "id": "i97J1q960m0j",
        "outputId": "977b9c76-014b-4222-98a8-32fbc810ed89"
      },
      "source": [
        "i = 12\n",
        "plt.figure(figsize = (6,3))\n",
        "plt.subplot(1, 2, 1)\n",
        "plot_image(i , pred, test_labels, test_images)\n",
        "plt.subplot(1, 2, 2)\n",
        "plot_val_array(i, pred, test_labels)"
      ],
      "execution_count": null,
      "outputs": [
        {
          "output_type": "display_data",
          "data": {
            "image/png": "[encoded data removed]",
            "text/plain": [
              "<Figure size 432x216 with 2 Axes>"
            ]
          },
          "metadata": {
            "tags": []
          }
        }
      ]
    },
    {
      "cell_type": "markdown",
      "metadata": {
        "id": "TKoO5t460w75"
      },
      "source": [
        "Vamos plotar algumas das previsõesdo modelo. Labels preditas corretamente são azuis e as predições erradas são vermelhas. O número dá a porcentagem (de 100) das labels preditas. Note que o modelo pode errar:"
      ]
    },
    {
      "cell_type": "code",
      "metadata": {
        "colab": {
          "base_uri": "https://localhost:8080/",
          "height": 589
        },
        "id": "r1BvP8OL03BH",
        "outputId": "15d48bfc-b53d-4e9b-d3ea-abdd5130b39e"
      },
      "source": [
        "# Plota o primeiro X test_images, as labels preditas e labels verdadeiras.\n",
        "# Colore as predições corretas de azul e as incorretas de vermelho.\n",
        "\n",
        "num_rows = 5\n",
        "num_cols = 3\n",
        "num_images = num_rows * num_cols\n",
        "plt.figure(figsize=(2 * 2 *num_cols, 2 * num_rows))\n",
        "for i in range(num_images):\n",
        "  plt.subplot(num_rows, 2 * num_cols, 2 *i+1) \n",
        "  plot_image(i, pred, test_labels, test_images)\n",
        "  plt.subplot(num_rows, 2 * num_cols, 2 *i+2) \n",
        "  plot_val_array(i, pred, test_labels)"
      ],
      "execution_count": null,
      "outputs": [
        {
          "output_type": "display_data",
          "data": {
            "image/png": "[encoded data removed]",
            "text/plain": [
              "<Figure size 864x720 with 30 Axes>"
            ]
          },
          "metadata": {
            "tags": []
          }
        }
      ]
    },
    {
      "cell_type": "markdown",
      "metadata": {
        "id": "9EX1hgQF2Q-3"
      },
      "source": [
        "Finalmente, usaremos o modelo treinado para fazer a predição de uma única imagem:"
      ]
    },
    {
      "cell_type": "code",
      "metadata": {
        "colab": {
          "base_uri": "https://localhost:8080/"
        },
        "id": "0X4F75Ht2TXZ",
        "outputId": "878d94a0-da9b-4457-f11b-cf9f3c14302e"
      },
      "source": [
        "# Grab an image from the test dataset.\n",
        "img = test_images[0]\n",
        "\n",
        "print(img.shape)\n"
      ],
      "execution_count": null,
      "outputs": [
        {
          "output_type": "stream",
          "text": [
            "(28, 28)\n"
          ],
          "name": "stdout"
        }
      ]
    },
    {
      "cell_type": "markdown",
      "metadata": {
        "id": "KRwHY51b29SF"
      },
      "source": [
        "Modelos tf.keras são   otimizados   para   fazer   predições   em batch,   ou   coleções,   de exemplos  de  uma  vez. Assim,  mesmo  que  usemos  uma  única  imagem,  precisamos adicionar em uma lista."
      ]
    },
    {
      "cell_type": "code",
      "metadata": {
        "colab": {
          "base_uri": "https://localhost:8080/"
        },
        "id": "BwEJZN8k3a7G",
        "outputId": "c6271357-a825-4cf7-fd52-89e7a81bb783"
      },
      "source": [
        "# Adiciona a imagem em um batch que possui um só membro.\n",
        "img = (np.expand_dims(img,0))\n",
        "\n",
        "print(img.shape)"
      ],
      "execution_count": null,
      "outputs": [
        {
          "output_type": "stream",
          "text": [
            "(1, 28, 28)\n"
          ],
          "name": "stdout"
        }
      ]
    },
    {
      "cell_type": "markdown",
      "metadata": {
        "id": "TEXv4_yy3jeL"
      },
      "source": [
        "Agora prediremos a label correta para essa imagem:"
      ]
    },
    {
      "cell_type": "code",
      "metadata": {
        "colab": {
          "base_uri": "https://localhost:8080/"
        },
        "id": "IdxBy_jc3mkc",
        "outputId": "55c883a9-f0e3-4f1e-a9ed-cd0d74f023ae"
      },
      "source": [
        "predictions_single = model.predict(img)\n",
        "\n",
        "print(predictions_single)\n"
      ],
      "execution_count": null,
      "outputs": [
        {
          "output_type": "stream",
          "text": [
            "[[8.3124149e-05 1.0719949e-08 7.5944712e-08 3.5128681e-10 6.7507727e-08\n",
            "  2.7652906e-04 3.1523209e-07 4.5787469e-03 3.5049611e-06 9.9505758e-01]]\n"
          ],
          "name": "stdout"
        }
      ]
    },
    {
      "cell_type": "code",
      "metadata": {
        "colab": {
          "base_uri": "https://localhost:8080/",
          "height": 301
        },
        "id": "Dtrz3Pjy3q7n",
        "outputId": "f2a83d9e-8482-4ac4-e179-9f4780f3aa07"
      },
      "source": [
        "plot_val_array(0, predictions_single, test_labels)\n",
        "_ = plt.xticks(range(10), class_names, rotation=45)"
      ],
      "execution_count": null,
      "outputs": [
        {
          "output_type": "display_data",
          "data": {
            "image/png": "[encoded data removed]",
            "text/plain": [
              "<Figure size 432x288 with 1 Axes>"
            ]
          },
          "metadata": {
            "tags": [],
            "needs_background": "light"
          }
        }
      ]
    },
    {
      "cell_type": "markdown",
      "metadata": {
        "id": "PQHitwMD3wfR"
      },
      "source": [
        "model.predict retorna a lista de listas — uma lista para cada imagem em um batch de dados. Pegue a predição de nossa (única) imagem no batch:"
      ]
    },
    {
      "cell_type": "code",
      "metadata": {
        "colab": {
          "base_uri": "https://localhost:8080/"
        },
        "id": "aKL8zd-A3xtF",
        "outputId": "f8af600d-e5ef-433a-fd22-260bf91f9c54"
      },
      "source": [
        "np.argmax(predictions_single[0])"
      ],
      "execution_count": null,
      "outputs": [
        {
          "output_type": "execute_result",
          "data": {
            "text/plain": [
              "9"
            ]
          },
          "metadata": {
            "tags": []
          },
          "execution_count": 50
        }
      ]
    },
    {
      "cell_type": "markdown",
      "metadata": {
        "id": "NKdQnmjM32R5"
      },
      "source": [
        "E, como antes, o modelo previu a label como 9."
      ]
    },
    {
      "cell_type": "markdown",
      "metadata": {
        "id": "9HgB2Diu34r0"
      },
      "source": [
        "Usamos a base de dados Fashion MNIST,que contém 70,000 imagens em tons de cinza em 10 categorias. As imagens mostram artigos individuais de roupas com baixa resolução (28 por 28 pixels).Fashion MNIST tem como intenção substituir a clássica base de dadosMNIST.\n",
        "Usamos  60,000  imagens  para  treinar  nossa  rede  e  10,000  imagens  para  avaliar  quão precisamente  nossa  rede  aprendeu  a  classificar  as  imagens.  Se  quiser,  você  pode acessar a Fashion MNIST diretamente do TensorFlow."
      ]
    }
  ]
}