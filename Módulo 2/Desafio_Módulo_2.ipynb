{
  "nbformat": 4,
  "nbformat_minor": 0,
  "metadata": {
    "colab": {
      "name": "Desafio Módulo 2.ipynb",
      "provenance": [],
      "collapsed_sections": [],
      "authorship_tag": "ABX9TyPkyO/XPDjFM83J1wJ2OWJK",
      "include_colab_link": true
    },
    "kernelspec": {
      "name": "python3",
      "display_name": "Python 3"
    },
    "language_info": {
      "name": "python"
    }
  },
  "cells": [
    {
      "cell_type": "markdown",
      "metadata": {
        "id": "view-in-github",
        "colab_type": "text"
      },
      "source": [
        "<a href=\"https://colab.research.google.com/github/MisterGusMan/IGTI_Bootcamp_ML/blob/main/M%C3%B3dulo%202/Desafio_M%C3%B3dulo_2.ipynb\" target=\"_parent\"><img src=\"https://colab.research.google.com/assets/colab-badge.svg\" alt=\"Open In Colab\"/></a>"
      ]
    },
    {
      "cell_type": "markdown",
      "metadata": {
        "id": "Rcq4mX4DTRLH"
      },
      "source": [
        "Enunciado\n",
        "Neste  desafio,serão  abordados  conceitos  apresentados  durante  adisciplina  Modelos Preditivos e Séries Temporais (MPT). Será utilizado o dataset “Banknote authentication”, disponível no UCI Machine LearningRepository (https://archive.ics.uci.edu/ml/datasets/banknote+authentication).   Este  dataset  consiste ematributos  contínuos  (variance,  skewness,  curtosis  e  entropy) extraídos   de   imagens   de   cédulas   reais   e   falsificadas   através   de   uma   etapa   de processamento de sinais (transformação de Wavelet), além da indicação se o exemplo é de uma cédula genuína (class = 0) ou falsificada (class = 1)."
      ]
    },
    {
      "cell_type": "markdown",
      "metadata": {
        "id": "R7tj2N-_Uuwe"
      },
      "source": [
        "Para implementação dos algoritmos, utilize as seguintes definições (do sklearn):\n",
        "\n",
        "a.Algoritmo KNN:clf_KNN = KNeighborsClassifier(n_neighbors=5)\n",
        "\n",
        "b.Algoritmo Árvore de Decisão (Decision Tree):clf_arvore = DecisionTreeClassifier(random_state=1)\n",
        "\n",
        "c.Algoritmo Floresta Aleatória (Random Forest):clf_floresta = RandomForestClassifier(max_depth=8, random_state=1)\n",
        "\n",
        "d.Algoritmo SVM:clf_svm = SVC(gamma='auto',kernel='rbf', random_state=1)\n",
        "\n",
        "e.Algoritmo Rede MLP:clf_mlp = MLPClassifier(hidden_layer_sizes=(2,),solver='lbfgs',random_state=1)"
      ]
    },
    {
      "cell_type": "code",
      "metadata": {
        "id": "LolmGMTfSJVm"
      },
      "source": [
        "import numpy as np\n",
        "import pandas as pd"
      ],
      "execution_count": null,
      "outputs": []
    },
    {
      "cell_type": "code",
      "metadata": {
        "id": "_We0CrieSb5F"
      },
      "source": [
        "df = pd.read_csv('https://pycourse.s3.amazonaws.com/banknote_authentication.txt', \n",
        "      header = None, \n",
        "      names = ['variance', 'skewness', 'curtosis', 'entropy', 'class'])"
      ],
      "execution_count": null,
      "outputs": []
    },
    {
      "cell_type": "code",
      "metadata": {
        "colab": {
          "base_uri": "https://localhost:8080/",
          "height": 206
        },
        "id": "lU0P8BXiS-cG",
        "outputId": "3705e2a6-7e4f-437c-d9bb-b5c94b0d439a"
      },
      "source": [
        "df.head()"
      ],
      "execution_count": null,
      "outputs": [
        {
          "output_type": "execute_result",
          "data": {
            "text/html": [
              "<div>\n",
              "<style scoped>\n",
              "    .dataframe tbody tr th:only-of-type {\n",
              "        vertical-align: middle;\n",
              "    }\n",
              "\n",
              "    .dataframe tbody tr th {\n",
              "        vertical-align: top;\n",
              "    }\n",
              "\n",
              "    .dataframe thead th {\n",
              "        text-align: right;\n",
              "    }\n",
              "</style>\n",
              "<table border=\"1\" class=\"dataframe\">\n",
              "  <thead>\n",
              "    <tr style=\"text-align: right;\">\n",
              "      <th></th>\n",
              "      <th>variance</th>\n",
              "      <th>skewness</th>\n",
              "      <th>curtosis</th>\n",
              "      <th>entropy</th>\n",
              "      <th>class</th>\n",
              "    </tr>\n",
              "  </thead>\n",
              "  <tbody>\n",
              "    <tr>\n",
              "      <th>0</th>\n",
              "      <td>3.62160</td>\n",
              "      <td>8.6661</td>\n",
              "      <td>-2.8073</td>\n",
              "      <td>-0.44699</td>\n",
              "      <td>0</td>\n",
              "    </tr>\n",
              "    <tr>\n",
              "      <th>1</th>\n",
              "      <td>4.54590</td>\n",
              "      <td>8.1674</td>\n",
              "      <td>-2.4586</td>\n",
              "      <td>-1.46210</td>\n",
              "      <td>0</td>\n",
              "    </tr>\n",
              "    <tr>\n",
              "      <th>2</th>\n",
              "      <td>3.86600</td>\n",
              "      <td>-2.6383</td>\n",
              "      <td>1.9242</td>\n",
              "      <td>0.10645</td>\n",
              "      <td>0</td>\n",
              "    </tr>\n",
              "    <tr>\n",
              "      <th>3</th>\n",
              "      <td>3.45660</td>\n",
              "      <td>9.5228</td>\n",
              "      <td>-4.0112</td>\n",
              "      <td>-3.59440</td>\n",
              "      <td>0</td>\n",
              "    </tr>\n",
              "    <tr>\n",
              "      <th>4</th>\n",
              "      <td>0.32924</td>\n",
              "      <td>-4.4552</td>\n",
              "      <td>4.5718</td>\n",
              "      <td>-0.98880</td>\n",
              "      <td>0</td>\n",
              "    </tr>\n",
              "  </tbody>\n",
              "</table>\n",
              "</div>"
            ],
            "text/plain": [
              "   variance  skewness  curtosis  entropy  class\n",
              "0   3.62160    8.6661   -2.8073 -0.44699      0\n",
              "1   4.54590    8.1674   -2.4586 -1.46210      0\n",
              "2   3.86600   -2.6383    1.9242  0.10645      0\n",
              "3   3.45660    9.5228   -4.0112 -3.59440      0\n",
              "4   0.32924   -4.4552    4.5718 -0.98880      0"
            ]
          },
          "metadata": {
            "tags": []
          },
          "execution_count": 4
        }
      ]
    },
    {
      "cell_type": "code",
      "metadata": {
        "colab": {
          "base_uri": "https://localhost:8080/"
        },
        "id": "oKfbYdFCd-8c",
        "outputId": "51f3f49b-abb7-4cf6-f6cd-0cfa73bd3e90"
      },
      "source": [
        "# Tamanho do Dataset:\n",
        "df.shape"
      ],
      "execution_count": null,
      "outputs": [
        {
          "output_type": "execute_result",
          "data": {
            "text/plain": [
              "(1372, 5)"
            ]
          },
          "metadata": {
            "tags": []
          },
          "execution_count": 5
        }
      ]
    },
    {
      "cell_type": "code",
      "metadata": {
        "colab": {
          "base_uri": "https://localhost:8080/"
        },
        "id": "0Sugpxm2e1Wx",
        "outputId": "45b68efe-4a8d-46ff-b9bb-dbcea64dcc5f"
      },
      "source": [
        "# Range das variáveis:\n",
        "for col in df.columns:\n",
        "  print(col, df[col].max()-df[col].min())"
      ],
      "execution_count": null,
      "outputs": [
        {
          "output_type": "stream",
          "text": [
            "variance 13.8669\n",
            "skewness 26.7247\n",
            "curtosis 23.2135\n",
            "entropy 10.9977\n",
            "class 1\n"
          ],
          "name": "stdout"
        }
      ]
    },
    {
      "cell_type": "code",
      "metadata": {
        "colab": {
          "base_uri": "https://localhost:8080/"
        },
        "id": "FqwDb7AjfYEH",
        "outputId": "3b17c4cf-8ac7-4721-de74-6994ac686fce"
      },
      "source": [
        "# Média da coluna Skewness:\n",
        "df['skewness'].mean()"
      ],
      "execution_count": null,
      "outputs": [
        {
          "output_type": "execute_result",
          "data": {
            "text/plain": [
              "1.9223531206393603"
            ]
          },
          "metadata": {
            "tags": []
          },
          "execution_count": 7
        }
      ]
    },
    {
      "cell_type": "code",
      "metadata": {
        "colab": {
          "base_uri": "https://localhost:8080/"
        },
        "id": "w_drgD-Rfi8D",
        "outputId": "9996fdab-232d-4e04-a21d-bf4b881048ae"
      },
      "source": [
        "# Média da coluna Entropy:\n",
        "df['entropy'].mean()"
      ],
      "execution_count": null,
      "outputs": [
        {
          "output_type": "execute_result",
          "data": {
            "text/plain": [
              "-1.191656520043731"
            ]
          },
          "metadata": {
            "tags": []
          },
          "execution_count": 8
        }
      ]
    },
    {
      "cell_type": "code",
      "metadata": {
        "colab": {
          "base_uri": "https://localhost:8080/"
        },
        "id": "kz_DKd2YfrMQ",
        "outputId": "1e1d41e6-6362-4714-f562-656b72e82676"
      },
      "source": [
        "# Mediana da coluna Variance:\n",
        "df['variance'].median()"
      ],
      "execution_count": null,
      "outputs": [
        {
          "output_type": "execute_result",
          "data": {
            "text/plain": [
              "0.49618"
            ]
          },
          "metadata": {
            "tags": []
          },
          "execution_count": 9
        }
      ]
    },
    {
      "cell_type": "code",
      "metadata": {
        "colab": {
          "base_uri": "https://localhost:8080/"
        },
        "id": "QSe4li56f9Zy",
        "outputId": "db6724aa-fdff-4696-aa83-80d493177594"
      },
      "source": [
        "# Desvio-padrão da coluna Curtosis:\n",
        "df['curtosis'].std()"
      ],
      "execution_count": null,
      "outputs": [
        {
          "output_type": "execute_result",
          "data": {
            "text/plain": [
              "4.310030090106595"
            ]
          },
          "metadata": {
            "tags": []
          },
          "execution_count": 10
        }
      ]
    },
    {
      "cell_type": "code",
      "metadata": {
        "colab": {
          "base_uri": "https://localhost:8080/"
        },
        "id": "sDdTHqsFgNTe",
        "outputId": "6e6e16ae-13be-4d86-ab0d-3c363c8d4aa3"
      },
      "source": [
        "# Porcentagem de exemplos do dataset que são cédulas falsas (class=1):\n",
        "df['class'].value_counts(normalize = True)*100"
      ],
      "execution_count": null,
      "outputs": [
        {
          "output_type": "execute_result",
          "data": {
            "text/plain": [
              "0    55.539359\n",
              "1    44.460641\n",
              "Name: class, dtype: float64"
            ]
          },
          "metadata": {
            "tags": []
          },
          "execution_count": 11
        }
      ]
    },
    {
      "cell_type": "code",
      "metadata": {
        "colab": {
          "base_uri": "https://localhost:8080/",
          "height": 112
        },
        "id": "lTLLiydhggET",
        "outputId": "cfbf14a6-fa3d-40fa-ae7e-29291c3b5ceb"
      },
      "source": [
        "# Valor da correlação de Pearson entre as variáveis skewness e curtosis:\n",
        "df[['skewness', 'curtosis']].corr()"
      ],
      "execution_count": null,
      "outputs": [
        {
          "output_type": "execute_result",
          "data": {
            "text/html": [
              "<div>\n",
              "<style scoped>\n",
              "    .dataframe tbody tr th:only-of-type {\n",
              "        vertical-align: middle;\n",
              "    }\n",
              "\n",
              "    .dataframe tbody tr th {\n",
              "        vertical-align: top;\n",
              "    }\n",
              "\n",
              "    .dataframe thead th {\n",
              "        text-align: right;\n",
              "    }\n",
              "</style>\n",
              "<table border=\"1\" class=\"dataframe\">\n",
              "  <thead>\n",
              "    <tr style=\"text-align: right;\">\n",
              "      <th></th>\n",
              "      <th>skewness</th>\n",
              "      <th>curtosis</th>\n",
              "    </tr>\n",
              "  </thead>\n",
              "  <tbody>\n",
              "    <tr>\n",
              "      <th>skewness</th>\n",
              "      <td>1.000000</td>\n",
              "      <td>-0.786895</td>\n",
              "    </tr>\n",
              "    <tr>\n",
              "      <th>curtosis</th>\n",
              "      <td>-0.786895</td>\n",
              "      <td>1.000000</td>\n",
              "    </tr>\n",
              "  </tbody>\n",
              "</table>\n",
              "</div>"
            ],
            "text/plain": [
              "          skewness  curtosis\n",
              "skewness  1.000000 -0.786895\n",
              "curtosis -0.786895  1.000000"
            ]
          },
          "metadata": {
            "tags": []
          },
          "execution_count": 12
        }
      ]
    },
    {
      "cell_type": "code",
      "metadata": {
        "id": "Px0ua3AVTv8j"
      },
      "source": [
        "from sklearn.model_selection import train_test_split\n",
        "X = df.drop('class', axis=1)\n",
        "y = df['class']\n",
        "X_train, X_test, y_train, y_test = train_test_split(X, y, test_size=0.30, random_state=1)"
      ],
      "execution_count": null,
      "outputs": []
    },
    {
      "cell_type": "code",
      "metadata": {
        "colab": {
          "base_uri": "https://localhost:8080/"
        },
        "id": "tvkZN25Sgw-e",
        "outputId": "4cbdccd3-7c7e-40e9-eb86-a5cf9977c43d"
      },
      "source": [
        "# Acurácia do KNN no conjunto de teste:\n",
        "from sklearn.neighbors import KNeighborsClassifier\n",
        "clf_KNN = KNeighborsClassifier(n_neighbors=5)\n",
        "clf_KNN.fit(X_train, y_train)\n",
        "from sklearn.metrics import accuracy_score\n",
        "accuracy_score(y_test, clf_KNN.predict(X_test))"
      ],
      "execution_count": null,
      "outputs": [
        {
          "output_type": "execute_result",
          "data": {
            "text/plain": [
              "0.9975728155339806"
            ]
          },
          "metadata": {
            "tags": []
          },
          "execution_count": 14
        }
      ]
    },
    {
      "cell_type": "code",
      "metadata": {
        "colab": {
          "base_uri": "https://localhost:8080/"
        },
        "id": "5L1yHhzLiO2K",
        "outputId": "2d812e35-2bf3-46a4-9bdf-0ff29f8ce026"
      },
      "source": [
        "# Acurácia do KNN no conjunto de teste:\n",
        "from sklearn.tree import DecisionTreeClassifier\n",
        "clf_arvore = DecisionTreeClassifier(random_state=1)\n",
        "clf_arvore.fit(X_train, y_train)\n",
        "accuracy_score(y_test, clf_arvore.predict(X_test))"
      ],
      "execution_count": null,
      "outputs": [
        {
          "output_type": "execute_result",
          "data": {
            "text/plain": [
              "0.9878640776699029"
            ]
          },
          "metadata": {
            "tags": []
          },
          "execution_count": 15
        }
      ]
    },
    {
      "cell_type": "code",
      "metadata": {
        "colab": {
          "base_uri": "https://localhost:8080/"
        },
        "id": "Dm8EJLjOisvQ",
        "outputId": "46a48c5b-fbb7-460c-9d18-7c58a84573f1"
      },
      "source": [
        "# Acurácia do Random Forest no conjunto de teste:\n",
        "from sklearn.ensemble import RandomForestClassifier\n",
        "clf_floresta = RandomForestClassifier(max_depth=8, random_state=1)\n",
        "clf_floresta.fit(X_train, y_train)\n",
        "accuracy_score(y_test, clf_floresta.predict(X_test))"
      ],
      "execution_count": null,
      "outputs": [
        {
          "output_type": "execute_result",
          "data": {
            "text/plain": [
              "0.9951456310679612"
            ]
          },
          "metadata": {
            "tags": []
          },
          "execution_count": 18
        }
      ]
    },
    {
      "cell_type": "code",
      "metadata": {
        "colab": {
          "base_uri": "https://localhost:8080/"
        },
        "id": "83pjt6KLMN9i",
        "outputId": "ed174c8b-53af-4752-987c-e501538f3af7"
      },
      "source": [
        "# Importância relativa das features no Random Forest:\n",
        "print(df.drop('class', axis = 1).columns,'\\n',\n",
        "clf_floresta.feature_importances_)"
      ],
      "execution_count": null,
      "outputs": [
        {
          "output_type": "stream",
          "text": [
            "Index(['variance', 'skewness', 'curtosis', 'entropy'], dtype='object') \n",
            " [0.56066718 0.24058589 0.14022782 0.05851911]\n"
          ],
          "name": "stdout"
        }
      ]
    },
    {
      "cell_type": "code",
      "metadata": {
        "colab": {
          "base_uri": "https://localhost:8080/"
        },
        "id": "40Lpu6JVOByL",
        "outputId": "279c8b1f-ea6a-4ed1-8e1b-e237b7dc1fe9"
      },
      "source": [
        "# Acurácia do SVM no conjunto de teste:\n",
        "from sklearn.svm import SVC\n",
        "clf_svm = SVC(gamma='auto',kernel='rbf', random_state=1)\n",
        "clf_svm.fit(X_train, y_train)\n",
        "accuracy_score(y_test, clf_svm.predict(X_test))"
      ],
      "execution_count": null,
      "outputs": [
        {
          "output_type": "execute_result",
          "data": {
            "text/plain": [
              "1.0"
            ]
          },
          "metadata": {
            "tags": []
          },
          "execution_count": 38
        }
      ]
    },
    {
      "cell_type": "code",
      "metadata": {
        "colab": {
          "base_uri": "https://localhost:8080/"
        },
        "id": "YQBGBjk0OjNb",
        "outputId": "3a3cc0a4-4757-42c6-a68e-a4831299c1e1"
      },
      "source": [
        "# Acurácia do MLP no conjunto de teste:\n",
        "from sklearn.neural_network import MLPClassifier\n",
        "clf_mlp = MLPClassifier(hidden_layer_sizes=(2,),solver='lbfgs',random_state=1)\n",
        "clf_mlp.fit(X_train, y_train)\n",
        "accuracy_score(y_test, clf_mlp.predict(X_test))"
      ],
      "execution_count": null,
      "outputs": [
        {
          "output_type": "execute_result",
          "data": {
            "text/plain": [
              "1.0"
            ]
          },
          "metadata": {
            "tags": []
          },
          "execution_count": 39
        }
      ]
    }
  ]
}