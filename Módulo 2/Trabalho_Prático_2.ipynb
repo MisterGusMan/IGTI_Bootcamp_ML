{
  "nbformat": 4,
  "nbformat_minor": 0,
  "metadata": {
    "colab": {
      "name": "Trabalho Prático 2.ipynb",
      "provenance": [],
      "collapsed_sections": [],
      "authorship_tag": "ABX9TyNx4YVsTuIg+6GkQu5wv7Pg",
      "include_colab_link": true
    },
    "kernelspec": {
      "display_name": "Python 3",
      "name": "python3"
    },
    "language_info": {
      "name": "python"
    }
  },
  "cells": [
    {
      "cell_type": "markdown",
      "metadata": {
        "id": "view-in-github",
        "colab_type": "text"
      },
      "source": [
        "<a href=\"https://colab.research.google.com/github/MisterGusMan/IGTI_Bootcamp_ML/blob/main/M%C3%B3dulo%202/Trabalho_Pr%C3%A1tico_2.ipynb\" target=\"_parent\"><img src=\"https://colab.research.google.com/assets/colab-badge.svg\" alt=\"Open In Colab\"/></a>"
      ]
    },
    {
      "cell_type": "markdown",
      "metadata": {
        "id": "jbZvvcWSEMmC"
      },
      "source": [
        "Este notebook será usado para responder as perguntas do Trabalho Prático 2."
      ]
    },
    {
      "cell_type": "markdown",
      "metadata": {
        "id": "kvMIvgdKJfd0"
      },
      "source": [
        "# Enunciado:\n",
        "O uso de bicicletas como um meio de transporte ganhou muita força nos últimos anos, seja por questões ambientais, de saúde ou até mesmo infraestrutura de trânsito. Para incentivar o uso, cidades em todo o mundo têm implementado programas de compartilhamento de bicicleta.  Nesses  sistemas,as  bicicletas  são  retiradas  e  devolvidas  em  quiosques automatizados espalhados em diversos pontos da cidade.As  plataformas  de  compartilhamento  de  bicicletas  costumam  coletar  diversos  tipos  de dados, entre eles: duração da viagem, localização inicial e final do percurso, entre outros. Esses  dados  coletados  pela  plataforma,  em  conjunto  com  informações  sobre  o  clima, trânsito   e   relevo,   por   exemplo,   tornampossível   uma   análise   mais   robusta   de compartilhamento de bicicletas."
      ]
    },
    {
      "cell_type": "markdown",
      "metadata": {
        "id": "bkbpzP7aJujf"
      },
      "source": [
        "A seguir, um descritivo dos dados coletados:\n",
        "\n",
        "‒rec_id: índice do registro de locação.\n",
        "\n",
        "‒datetime: data.\n",
        "\n",
        "‒season: estação do ano (1: inverno, 2: primavera, 3: verão, 4: outono). Relativo ao hemisfério norte.\n",
        "\n",
        "‒year: ano (0: 2011, 1:2012).\n",
        "\n",
        "‒month: mês (1 a 12).\n",
        "\n",
        "‒hour: hora do dia (0 a 23).\n",
        "\n",
        "‒is_holiday: booleano indicando feriado.\n",
        "\n",
        "‒weekday: dia da semana (0: domingo, 1: segunda-feira, ..., 6: sábado).\n",
        "\n",
        "‒is_workingday: booleano indicando dia útil.\n",
        "\n",
        "‒weather_condition: (1: limpo, 2: nublado, 3: chuva leve, 4: chuva forte).\n",
        "\n",
        "‒temp: temperatura escalada entre 0 e 1. Valor original em graus Celsius: -8 a 39.\n",
        "\n",
        "‒atemp: sensação térmica escalada entre 0 e 1. Valor original em graus Celsius: -16 a 50.\n",
        "\n",
        "‒humidity: umidade relativa (0 a 1).\n",
        "\n",
        "‒windspeed: velocidade do vento escalada entre 0 e 1 (máximo original: 67).\n",
        "\n",
        "‒casual: número de locações para usuários casuais.\n",
        "\n",
        "‒registered: número de locações para usuários registrados.\n",
        "\n",
        "‒total_count: contador total de aluguéis (casual+registered)."
      ]
    },
    {
      "cell_type": "code",
      "metadata": {
        "id": "bXTepsqjDk-v"
      },
      "source": [
        "import pandas as pd\n",
        "import numpy as np"
      ],
      "execution_count": null,
      "outputs": []
    },
    {
      "cell_type": "code",
      "metadata": {
        "colab": {
          "base_uri": "https://localhost:8080/",
          "height": 226
        },
        "id": "MFF8sSNBD42J",
        "outputId": "d0449719-de9f-4ae7-cfeb-83e658d1a79f"
      },
      "source": [
        "df = pd.read_csv('https://pycourse.s3.amazonaws.com/bike-sharing.csv')\n",
        "df.head()"
      ],
      "execution_count": null,
      "outputs": [
        {
          "output_type": "execute_result",
          "data": {
            "text/html": [
              "<div>\n",
              "<style scoped>\n",
              "    .dataframe tbody tr th:only-of-type {\n",
              "        vertical-align: middle;\n",
              "    }\n",
              "\n",
              "    .dataframe tbody tr th {\n",
              "        vertical-align: top;\n",
              "    }\n",
              "\n",
              "    .dataframe thead th {\n",
              "        text-align: right;\n",
              "    }\n",
              "</style>\n",
              "<table border=\"1\" class=\"dataframe\">\n",
              "  <thead>\n",
              "    <tr style=\"text-align: right;\">\n",
              "      <th></th>\n",
              "      <th>datetime</th>\n",
              "      <th>rec_id</th>\n",
              "      <th>season</th>\n",
              "      <th>year</th>\n",
              "      <th>month</th>\n",
              "      <th>hour</th>\n",
              "      <th>is_holiday</th>\n",
              "      <th>weekday</th>\n",
              "      <th>is_workingday</th>\n",
              "      <th>weather_condition</th>\n",
              "      <th>temp</th>\n",
              "      <th>atemp</th>\n",
              "      <th>humidity</th>\n",
              "      <th>windspeed</th>\n",
              "      <th>casual</th>\n",
              "      <th>registered</th>\n",
              "      <th>total_count</th>\n",
              "    </tr>\n",
              "  </thead>\n",
              "  <tbody>\n",
              "    <tr>\n",
              "      <th>0</th>\n",
              "      <td>2011-01-01</td>\n",
              "      <td>1</td>\n",
              "      <td>1</td>\n",
              "      <td>0</td>\n",
              "      <td>1</td>\n",
              "      <td>0</td>\n",
              "      <td>0</td>\n",
              "      <td>6</td>\n",
              "      <td>0</td>\n",
              "      <td>1</td>\n",
              "      <td>0.24</td>\n",
              "      <td>0.2879</td>\n",
              "      <td>0.81</td>\n",
              "      <td>0.0</td>\n",
              "      <td>3</td>\n",
              "      <td>13</td>\n",
              "      <td>16</td>\n",
              "    </tr>\n",
              "    <tr>\n",
              "      <th>1</th>\n",
              "      <td>2011-01-01</td>\n",
              "      <td>2</td>\n",
              "      <td>1</td>\n",
              "      <td>0</td>\n",
              "      <td>1</td>\n",
              "      <td>1</td>\n",
              "      <td>0</td>\n",
              "      <td>6</td>\n",
              "      <td>0</td>\n",
              "      <td>1</td>\n",
              "      <td>0.22</td>\n",
              "      <td>0.2727</td>\n",
              "      <td>0.80</td>\n",
              "      <td>0.0</td>\n",
              "      <td>8</td>\n",
              "      <td>32</td>\n",
              "      <td>40</td>\n",
              "    </tr>\n",
              "    <tr>\n",
              "      <th>2</th>\n",
              "      <td>2011-01-01</td>\n",
              "      <td>3</td>\n",
              "      <td>1</td>\n",
              "      <td>0</td>\n",
              "      <td>1</td>\n",
              "      <td>2</td>\n",
              "      <td>0</td>\n",
              "      <td>6</td>\n",
              "      <td>0</td>\n",
              "      <td>1</td>\n",
              "      <td>0.22</td>\n",
              "      <td>0.2727</td>\n",
              "      <td>0.80</td>\n",
              "      <td>0.0</td>\n",
              "      <td>5</td>\n",
              "      <td>27</td>\n",
              "      <td>32</td>\n",
              "    </tr>\n",
              "    <tr>\n",
              "      <th>3</th>\n",
              "      <td>2011-01-01</td>\n",
              "      <td>4</td>\n",
              "      <td>1</td>\n",
              "      <td>0</td>\n",
              "      <td>1</td>\n",
              "      <td>3</td>\n",
              "      <td>0</td>\n",
              "      <td>6</td>\n",
              "      <td>0</td>\n",
              "      <td>1</td>\n",
              "      <td>0.24</td>\n",
              "      <td>0.2879</td>\n",
              "      <td>0.75</td>\n",
              "      <td>0.0</td>\n",
              "      <td>3</td>\n",
              "      <td>10</td>\n",
              "      <td>13</td>\n",
              "    </tr>\n",
              "    <tr>\n",
              "      <th>4</th>\n",
              "      <td>2011-01-01</td>\n",
              "      <td>5</td>\n",
              "      <td>1</td>\n",
              "      <td>0</td>\n",
              "      <td>1</td>\n",
              "      <td>4</td>\n",
              "      <td>0</td>\n",
              "      <td>6</td>\n",
              "      <td>0</td>\n",
              "      <td>1</td>\n",
              "      <td>0.24</td>\n",
              "      <td>0.2879</td>\n",
              "      <td>0.75</td>\n",
              "      <td>0.0</td>\n",
              "      <td>0</td>\n",
              "      <td>1</td>\n",
              "      <td>1</td>\n",
              "    </tr>\n",
              "  </tbody>\n",
              "</table>\n",
              "</div>"
            ],
            "text/plain": [
              "     datetime  rec_id  season  year  ...  windspeed  casual  registered  total_count\n",
              "0  2011-01-01       1       1     0  ...        0.0       3          13           16\n",
              "1  2011-01-01       2       1     0  ...        0.0       8          32           40\n",
              "2  2011-01-01       3       1     0  ...        0.0       5          27           32\n",
              "3  2011-01-01       4       1     0  ...        0.0       3          10           13\n",
              "4  2011-01-01       5       1     0  ...        0.0       0           1            1\n",
              "\n",
              "[5 rows x 17 columns]"
            ]
          },
          "metadata": {
            "tags": []
          },
          "execution_count": 2
        }
      ]
    },
    {
      "cell_type": "code",
      "metadata": {
        "colab": {
          "base_uri": "https://localhost:8080/"
        },
        "id": "YpyWtypxEeOL",
        "outputId": "f554c085-cc14-4072-8821-ec2c85839401"
      },
      "source": [
        "# Tamanho do dataframe:\n",
        "df.shape"
      ],
      "execution_count": null,
      "outputs": [
        {
          "output_type": "execute_result",
          "data": {
            "text/plain": [
              "(17379, 17)"
            ]
          },
          "metadata": {
            "tags": []
          },
          "execution_count": 3
        }
      ]
    },
    {
      "cell_type": "code",
      "metadata": {
        "colab": {
          "base_uri": "https://localhost:8080/"
        },
        "id": "0p0-JggIEn38",
        "outputId": "47fb969b-caa9-4edd-de9b-b0cd73f5e74d"
      },
      "source": [
        "# Média da coluna 'windspeed'\n",
        "df['windspeed'].mean()"
      ],
      "execution_count": null,
      "outputs": [
        {
          "output_type": "execute_result",
          "data": {
            "text/plain": [
              "0.1900976063064631"
            ]
          },
          "metadata": {
            "tags": []
          },
          "execution_count": 4
        }
      ]
    },
    {
      "cell_type": "code",
      "metadata": {
        "colab": {
          "base_uri": "https://localhost:8080/"
        },
        "id": "s563bf-YE9c0",
        "outputId": "9ca3a619-4bef-4d64-ff66-506487843858"
      },
      "source": [
        "# Média da coluna temp:\n",
        "df['temp'].mean()"
      ],
      "execution_count": 91,
      "outputs": [
        {
          "output_type": "execute_result",
          "data": {
            "text/plain": [
              "0.4969871684216586"
            ]
          },
          "metadata": {
            "tags": []
          },
          "execution_count": 91
        }
      ]
    },
    {
      "cell_type": "code",
      "metadata": {
        "colab": {
          "base_uri": "https://localhost:8080/"
        },
        "id": "7UtEQ6O1FDG6",
        "outputId": "88f5e9c4-eb67-4d95-bdc1-02dea5330cd9"
      },
      "source": [
        "# Quantidade de registros em 2011:\n",
        "df[df['datetime'].apply(lambda x: x.split('-')[0]) == '2011'].shape"
      ],
      "execution_count": null,
      "outputs": [
        {
          "output_type": "execute_result",
          "data": {
            "text/plain": [
              "(8645, 17)"
            ]
          },
          "metadata": {
            "tags": []
          },
          "execution_count": 6
        }
      ]
    },
    {
      "cell_type": "code",
      "metadata": {
        "colab": {
          "base_uri": "https://localhost:8080/"
        },
        "id": "pWhZGSDBI916",
        "outputId": "b306f1c0-97fa-4a25-b437-36ca383aa9e5"
      },
      "source": [
        "# Quantidade de registros em 2012:\n",
        "df[df['datetime'].apply(lambda x: x.split('-')[0]) == '2012'].shape"
      ],
      "execution_count": null,
      "outputs": [
        {
          "output_type": "execute_result",
          "data": {
            "text/plain": [
              "(8734, 17)"
            ]
          },
          "metadata": {
            "tags": []
          },
          "execution_count": 7
        }
      ]
    },
    {
      "cell_type": "code",
      "metadata": {
        "colab": {
          "base_uri": "https://localhost:8080/"
        },
        "id": "1M71j0yZJDtR",
        "outputId": "1d150282-4c8d-4414-cf0c-1f402164a24a"
      },
      "source": [
        "# Quantidade de locações de bicicleta em 2011:\n",
        "df[df['datetime'].apply(lambda x: x.split('-')[0]) == '2011']['total_count'].sum()"
      ],
      "execution_count": null,
      "outputs": [
        {
          "output_type": "execute_result",
          "data": {
            "text/plain": [
              "1243103"
            ]
          },
          "metadata": {
            "tags": []
          },
          "execution_count": 8
        }
      ]
    },
    {
      "cell_type": "code",
      "metadata": {
        "colab": {
          "base_uri": "https://localhost:8080/"
        },
        "id": "IHn4bfURLVw_",
        "outputId": "45f73389-756d-485a-84ec-fb1ce3f269d9"
      },
      "source": [
        "# Quantidade de locações de bicicleta em 2012:\n",
        "df[df['datetime'].apply(lambda x: x.split('-')[0]) == '2012']['total_count'].sum()"
      ],
      "execution_count": null,
      "outputs": [
        {
          "output_type": "execute_result",
          "data": {
            "text/plain": [
              "2049576"
            ]
          },
          "metadata": {
            "tags": []
          },
          "execution_count": 9
        }
      ]
    },
    {
      "cell_type": "markdown",
      "metadata": {
        "id": "o6Y4WijPM08z"
      },
      "source": [
        ""
      ]
    },
    {
      "cell_type": "code",
      "metadata": {
        "colab": {
          "base_uri": "https://localhost:8080/"
        },
        "id": "TalYRq9NLaPz",
        "outputId": "a22a2f48-d06c-454d-d572-384896a8ea59"
      },
      "source": [
        "# Estação do ano com a maior/menor média de locações:\n",
        "for i in range(1,5):\n",
        "  print('Estação {}: {}'.format(i, df[df.season == i]['total_count'].mean()))"
      ],
      "execution_count": 38,
      "outputs": [
        {
          "output_type": "stream",
          "text": [
            "Estação 1: 111.11456859971712\n",
            "Estação 2: 208.34406894987526\n",
            "Estação 3: 236.01623665480426\n",
            "Estação 4: 198.86885633270322\n"
          ],
          "name": "stdout"
        }
      ]
    },
    {
      "cell_type": "code",
      "metadata": {
        "colab": {
          "base_uri": "https://localhost:8080/"
        },
        "id": "YE5EEsu82RPM",
        "outputId": "db6163c6-5d29-4b62-973a-99d0bc033569"
      },
      "source": [
        "# Horário com a maior/menor média de locações:\n",
        "for i in range(1,24):\n",
        "  print('{}h: {}'.format(i, df[df.hour == i]['total_count'].mean()))"
      ],
      "execution_count": 42,
      "outputs": [
        {
          "output_type": "stream",
          "text": [
            "1h: 33.3756906077348\n",
            "2h: 22.86993006993007\n",
            "3h: 11.727403156384504\n",
            "4h: 6.352941176470588\n",
            "5h: 19.88981868898187\n",
            "6h: 76.04413793103448\n",
            "7h: 212.0646492434663\n",
            "8h: 359.01100412654745\n",
            "9h: 219.30949105914718\n",
            "10h: 173.6685006877579\n",
            "11h: 208.1430536451169\n",
            "12h: 253.31593406593407\n",
            "13h: 253.66117969821673\n",
            "14h: 240.94924554183814\n",
            "15h: 251.2331961591221\n",
            "16h: 311.9835616438356\n",
            "17h: 461.45205479452056\n",
            "18h: 425.510989010989\n",
            "19h: 311.52335164835165\n",
            "20h: 226.03021978021977\n",
            "21h: 172.31456043956044\n",
            "22h: 131.33516483516485\n",
            "23h: 87.83104395604396\n"
          ],
          "name": "stdout"
        }
      ]
    },
    {
      "cell_type": "code",
      "metadata": {
        "colab": {
          "base_uri": "https://localhost:8080/"
        },
        "id": "3yb8Tfr84jGn",
        "outputId": "7ee5a3a0-0692-43b5-a115-fc5a77a7158d"
      },
      "source": [
        "# Dia da semana com a maior/menor média de locações:\n",
        "for i in range(7):\n",
        "  print('Dia {}: {}'.format(i, df[df.weekday == i]['total_count'].mean()))"
      ],
      "execution_count": 46,
      "outputs": [
        {
          "output_type": "stream",
          "text": [
            "Dia 0: 177.46882494004797\n",
            "Dia 1: 183.74465510286404\n",
            "Dia 2: 191.23889115368937\n",
            "Dia 3: 191.13050505050506\n",
            "Dia 4: 196.43666531768514\n",
            "Dia 5: 196.13590671491758\n",
            "Dia 6: 190.20979299363057\n"
          ],
          "name": "stdout"
        }
      ]
    },
    {
      "cell_type": "code",
      "metadata": {
        "colab": {
          "base_uri": "https://localhost:8080/"
        },
        "id": "db8vuzQ95OEA",
        "outputId": "adca03d7-ae35-41de-ec70-5f8e4ba3ba63"
      },
      "source": [
        " # Horário com mais locações nas quartas (dia 3):\n",
        "for i in range(1,24):\n",
        "  print('{}h: {}'.format(i, df[(df.hour == i) & (df.weekday == 3)]['total_count'].mean()))"
      ],
      "execution_count": 89,
      "outputs": [
        {
          "output_type": "stream",
          "text": [
            "1h: 15.336538461538462\n",
            "2h: 7.813725490196078\n",
            "3h: 4.888888888888889\n",
            "4h: 4.96875\n",
            "5h: 25.75\n",
            "6h: 107.8076923076923\n",
            "7h: 303.9807692307692\n",
            "8h: 488.3269230769231\n",
            "9h: 238.52884615384616\n",
            "10h: 131.89423076923077\n",
            "11h: 152.20192307692307\n",
            "12h: 193.90384615384616\n",
            "13h: 185.82692307692307\n",
            "14h: 170.54807692307693\n",
            "15h: 181.28846153846155\n",
            "16h: 272.96153846153845\n",
            "17h: 513.1442307692307\n",
            "18h: 494.02912621359224\n",
            "19h: 357.50485436893206\n",
            "20h: 256.6601941747573\n",
            "21h: 194.66990291262135\n",
            "22h: 143.6893203883495\n",
            "23h: 83.7378640776699\n"
          ],
          "name": "stdout"
        }
      ]
    },
    {
      "cell_type": "code",
      "metadata": {
        "colab": {
          "base_uri": "https://localhost:8080/"
        },
        "id": "V1BcAGOT-c06",
        "outputId": "25e87fec-0850-4f01-c09b-4ef4fdadc122"
      },
      "source": [
        "# Horário com mais locações nos sábados (dia 6):\n",
        "for i in range(1,24):\n",
        "  print('{}h: {}'.format(i, df[(df.hour == i) & (df.weekday == 6)]['total_count'].mean()))"
      ],
      "execution_count": 90,
      "outputs": [
        {
          "output_type": "stream",
          "text": [
            "1h: 67.78095238095239\n",
            "2h: 50.49523809523809\n",
            "3h: 22.885714285714286\n",
            "4h: 7.6571428571428575\n",
            "5h: 8.29126213592233\n",
            "6h: 21.0\n",
            "7h: 45.96190476190476\n",
            "8h: 114.47619047619048\n",
            "9h: 186.7904761904762\n",
            "10h: 263.7238095238095\n",
            "11h: 328.6095238095238\n",
            "12h: 375.3809523809524\n",
            "13h: 385.37142857142857\n",
            "14h: 381.3333333333333\n",
            "15h: 382.42857142857144\n",
            "16h: 366.14285714285717\n",
            "17h: 334.4095238095238\n",
            "18h: 292.0480769230769\n",
            "19h: 239.93269230769232\n",
            "20h: 180.8653846153846\n",
            "21h: 156.0\n",
            "22h: 139.66346153846155\n",
            "23h: 115.85576923076923\n"
          ],
          "name": "stdout"
        }
      ]
    }
  ]
}